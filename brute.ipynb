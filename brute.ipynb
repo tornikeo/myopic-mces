{
 "cells": [
  {
   "cell_type": "code",
   "execution_count": 2,
   "metadata": {},
   "outputs": [],
   "source": [
    "import pandas as pd\n",
    "from myopic_mces import MCES, construct_graph\n",
    "from myopic_mces.MCES_ILP import get_ilp_itself\n",
    "from itertools import product\n",
    "from tqdm.cli import tqdm\n",
    "from IPython.display import clear_output\n",
    "from functools import lru_cache\n",
    "from myopic_mces import construct_graph\n",
    "import pulp\n",
    "import networkx as nx\n",
    "\n",
    "smiles_a, smiles_b = ['CC(=O)OC1=CC=CC=C1C(=O)O'], ['CN1C=NC2=C1C(=O)N(C(=O)N2C)C']\n",
    "# smiles_a, smiles_b = ['CCc1ccccc1'], ['C=Cc1ccccc1']\n",
    "G1 = construct_graph(smiles_a[0])\n",
    "G2 = construct_graph(smiles_b[0])\n",
    "ilp = get_ilp_itself(G1, G2, -1)"
   ]
  },
  {
   "cell_type": "code",
   "execution_count": null,
   "metadata": {},
   "outputs": [],
   "source": [
    "# c = [ mappable_edge_pairs * weight + edges_not_mapped_penalty_bond ]\n",
    "# s.t. \n",
    "# One node can map to only one other node, both way, assignment problem ...\n",
    "# The mapping of the edges has to match the mapping of the nodes:\n",
    "#   yik is node i mapped to k\n",
    "#   yil is node i mapped to l\n",
    "#   then sum cikl <= yil + yik #\n",
    "# # cikl is 0. 0 <= yil + yik # disabled\n",
    "# cikl is 1\n",
    "# Every edge must be mapped, or not not mapping has to be 1"
   ]
  },
  {
   "cell_type": "code",
   "execution_count": null,
   "metadata": {},
   "outputs": [],
   "source": [
    "# Rows and columns\n",
    "\n",
    "# Rows of edges\n",
    "# Columns of edges\n",
    "# Can I answer: Is this solvable within C<1, quickly?\n",
    "\n",
    "# Each edge to other edge, or edge penalty\n",
    "# "
   ]
  },
  {
   "cell_type": "code",
   "execution_count": 2,
   "metadata": {},
   "outputs": [],
   "source": [
    "smiles_all = pd.read_csv('MassSpecGym.tsv', sep='\\t').smiles.unique()\n",
    "smiles_a = smiles_all[:100]\n",
    "smiles_b = smiles_all[100:200]"
   ]
  },
  {
   "cell_type": "code",
   "execution_count": 3,
   "metadata": {},
   "outputs": [
    {
     "name": "stdout",
     "output_type": "stream",
     "text": [
      "Welcome to the CBC MILP Solver \n",
      "Version: 2.10.3 \n",
      "Build Date: Dec 15 2019 \n",
      "\n",
      "command line - /home/tornikeo/micromamba/envs/pb/lib/python3.10/site-packages/pulp/solverdir/cbc/linux/64/cbc /tmp/56b4833c15af4ae9b805627f2a09aedc-pulp.mps -timeMode elapsed -branch -printingOptions all -solution /tmp/56b4833c15af4ae9b805627f2a09aedc-pulp.sol (default strategy 1)\n",
      "At line 2 NAME          MODEL\n",
      "At line 3 ROWS\n",
      "At line 437 COLUMNS\n",
      "At line 1427 RHS\n",
      "At line 1860 BOUNDS\n",
      "At line 1995 ENDATA\n",
      "Problem MODEL has 432 rows, 134 columns and 683 elements\n",
      "Coin0008I MODEL read with 0 errors\n",
      "Option for timeMode changed from cpu to elapsed\n",
      "Continuous objective value is 27 - 0.00 seconds\n",
      "Cgl0003I 0 fixed, 0 tightened bounds, 6 strengthened rows, 0 substitutions\n",
      "Cgl0003I 0 fixed, 0 tightened bounds, 6 strengthened rows, 0 substitutions\n",
      "Cgl0004I processed model has 92 rows, 81 columns (81 integer (81 of which binary)) and 327 elements\n",
      "Cutoff increment increased from 1e-05 to 0.4999\n",
      "Cbc0038I Initial state - 0 integers unsatisfied sum - 0\n",
      "Cbc0038I Solution found of 27\n",
      "Cbc0038I Before mini branch and bound, 81 integers at bound fixed and 0 continuous\n",
      "Cbc0038I Mini branch and bound did not improve solution (0.01 seconds)\n",
      "Cbc0038I After 0.01 seconds - Feasibility pump exiting with objective of 27 - took 0.00 seconds\n",
      "Cbc0012I Integer solution of 27 found by feasibility pump after 0 iterations and 0 nodes (0.01 seconds)\n",
      "Cbc0001I Search completed - best objective 27, took 0 iterations and 0 nodes (0.01 seconds)\n",
      "Cbc0035I Maximum depth 0, 0 variables fixed on reduced cost\n",
      "Cuts at root node changed objective from 27 to 27\n",
      "Probing was tried 0 times and created 0 cuts of which 0 were active after adding rounds of cuts (0.000 seconds)\n",
      "Gomory was tried 0 times and created 0 cuts of which 0 were active after adding rounds of cuts (0.000 seconds)\n",
      "Knapsack was tried 0 times and created 0 cuts of which 0 were active after adding rounds of cuts (0.000 seconds)\n",
      "Clique was tried 0 times and created 0 cuts of which 0 were active after adding rounds of cuts (0.000 seconds)\n",
      "MixedIntegerRounding2 was tried 0 times and created 0 cuts of which 0 were active after adding rounds of cuts (0.000 seconds)\n",
      "FlowCover was tried 0 times and created 0 cuts of which 0 were active after adding rounds of cuts (0.000 seconds)\n",
      "TwoMirCuts was tried 0 times and created 0 cuts of which 0 were active after adding rounds of cuts (0.000 seconds)\n",
      "ZeroHalf was tried 0 times and created 0 cuts of which 0 were active after adding rounds of cuts (0.000 seconds)\n",
      "\n",
      "Result - Optimal solution found\n",
      "\n",
      "Objective value:                27.00000000\n",
      "Enumerated nodes:               0\n",
      "Total iterations:               0\n",
      "Time (CPU seconds):             0.01\n",
      "Time (Wallclock seconds):       0.01\n",
      "\n",
      "Option for printingOptions changed from normal to all\n",
      "Total time (CPU seconds):       0.01   (Wallclock seconds):       0.01\n",
      "\n"
     ]
    },
    {
     "data": {
      "text/plain": [
       "27.0"
      ]
     },
     "execution_count": 3,
     "metadata": {},
     "output_type": "execute_result"
    }
   ],
   "source": [
    "ilp.solve()\n",
    "ilp.objective.value()"
   ]
  },
  {
   "cell_type": "code",
   "execution_count": 4,
   "metadata": {},
   "outputs": [
    {
     "ename": "KeyboardInterrupt",
     "evalue": "",
     "output_type": "error",
     "traceback": [
      "\u001b[0;31m---------------------------------------------------------------------------\u001b[0m",
      "\u001b[0;31mKeyboardInterrupt\u001b[0m                         Traceback (most recent call last)",
      "Cell \u001b[0;32mIn[4], line 47\u001b[0m\n\u001b[1;32m     45\u001b[0m G1 \u001b[38;5;241m=\u001b[39m construct_graph(a)\n\u001b[1;32m     46\u001b[0m G2 \u001b[38;5;241m=\u001b[39m construct_graph(b)\n\u001b[0;32m---> 47\u001b[0m ilp \u001b[38;5;241m=\u001b[39m \u001b[43mget_ilp_itself\u001b[49m\u001b[43m(\u001b[49m\u001b[43mG1\u001b[49m\u001b[43m,\u001b[49m\u001b[43m \u001b[49m\u001b[43mG2\u001b[49m\u001b[43m,\u001b[49m\u001b[43m \u001b[49m\u001b[38;5;241;43m-\u001b[39;49m\u001b[38;5;241;43m1\u001b[39;49m\u001b[43m)\u001b[49m\n\u001b[1;32m     48\u001b[0m \u001b[38;5;66;03m# c, A, ub = extract_lp_matrices(ilp)\u001b[39;00m\n\u001b[1;32m     49\u001b[0m \n\u001b[1;32m     50\u001b[0m \u001b[38;5;66;03m# res = milp(\u001b[39;00m\n\u001b[0;32m   (...)\u001b[0m\n\u001b[1;32m     59\u001b[0m \u001b[38;5;66;03m# ilp.solve()\u001b[39;00m\n\u001b[1;32m     60\u001b[0m \u001b[38;5;66;03m# print(res.fun, ilp.objective.value())\u001b[39;00m\n\u001b[1;32m     61\u001b[0m ilp\u001b[38;5;241m.\u001b[39mwriteLP(\u001b[38;5;124mf\u001b[39m\u001b[38;5;124m'\u001b[39m\u001b[38;5;124mmps/\u001b[39m\u001b[38;5;132;01m{\u001b[39;00mi\u001b[38;5;132;01m:\u001b[39;00m\u001b[38;5;124m03\u001b[39m\u001b[38;5;132;01m}\u001b[39;00m\u001b[38;5;124m.lp\u001b[39m\u001b[38;5;124m'\u001b[39m)\n",
      "File \u001b[0;32m~/Documents/personal/forks/myopic-mces/src/myopic_mces/MCES_ILP.py:301\u001b[0m, in \u001b[0;36mget_ilp_itself\u001b[0;34m(G1, G2, threshold, solver, solver_options, no_ilp_threshold)\u001b[0m\n\u001b[1;32m    299\u001b[0m         \u001b[38;5;28;01mif\u001b[39;00m G2\u001b[38;5;241m.\u001b[39mnodes[i][\u001b[38;5;124m\"\u001b[39m\u001b[38;5;124matom\u001b[39m\u001b[38;5;124m\"\u001b[39m]\u001b[38;5;241m==\u001b[39mG1\u001b[38;5;241m.\u001b[39mnodes[j[\u001b[38;5;241m1\u001b[39m]][\u001b[38;5;124m\"\u001b[39m\u001b[38;5;124matom\u001b[39m\u001b[38;5;124m\"\u001b[39m]:\n\u001b[1;32m    300\u001b[0m             rs\u001b[38;5;241m.\u001b[39mappend(\u001b[38;5;28mtuple\u001b[39m([j[\u001b[38;5;241m1\u001b[39m],i]))\n\u001b[0;32m--> 301\u001b[0m         ILP\u001b[38;5;241m+\u001b[39m\u001b[38;5;241m=\u001b[39m\u001b[43mpulp\u001b[49m\u001b[38;5;241;43m.\u001b[39;49m\u001b[43mlpSum\u001b[49m\u001b[43m(\u001b[49m\u001b[43m[\u001b[49m\u001b[43mc\u001b[49m\u001b[43m[\u001b[49m\u001b[43mk\u001b[49m\u001b[43m]\u001b[49m\u001b[43m \u001b[49m\u001b[38;5;28;43;01mfor\u001b[39;49;00m\u001b[43m \u001b[49m\u001b[43mk\u001b[49m\u001b[43m \u001b[49m\u001b[38;5;129;43;01min\u001b[39;49;00m\u001b[43m \u001b[49m\u001b[43mls\u001b[49m\u001b[43m]\u001b[49m\u001b[43m)\u001b[49m\u001b[38;5;241;43m<\u001b[39;49m\u001b[38;5;241;43m=\u001b[39;49m\u001b[43mpulp\u001b[49m\u001b[38;5;241;43m.\u001b[39;49m\u001b[43mlpSum\u001b[49m\u001b[43m(\u001b[49m\u001b[43my\u001b[49m\u001b[43m[\u001b[49m\u001b[43mk\u001b[49m\u001b[43m]\u001b[49m\u001b[43m \u001b[49m\u001b[38;5;28;43;01mfor\u001b[39;49;00m\u001b[43m \u001b[49m\u001b[43mk\u001b[49m\u001b[43m \u001b[49m\u001b[38;5;129;43;01min\u001b[39;49;00m\u001b[43m \u001b[49m\u001b[43mrs\u001b[49m\u001b[43m)\u001b[49m\n\u001b[1;32m    303\u001b[0m \u001b[38;5;66;03m#constraint for the threshold\u001b[39;00m\n\u001b[1;32m    304\u001b[0m \u001b[38;5;28;01mif\u001b[39;00m threshold\u001b[38;5;241m!=\u001b[39m\u001b[38;5;241m-\u001b[39m\u001b[38;5;241m1\u001b[39m \u001b[38;5;129;01mand\u001b[39;00m \u001b[38;5;129;01mnot\u001b[39;00m no_ilp_threshold:\n",
      "File \u001b[0;32m~/micromamba/envs/pb/lib/python3.10/site-packages/pulp/pulp.py:976\u001b[0m, in \u001b[0;36mLpAffineExpression.__le__\u001b[0;34m(self, other)\u001b[0m\n\u001b[1;32m    975\u001b[0m \u001b[38;5;28;01mdef\u001b[39;00m\u001b[38;5;250m \u001b[39m\u001b[38;5;21m__le__\u001b[39m(\u001b[38;5;28mself\u001b[39m, other):\n\u001b[0;32m--> 976\u001b[0m     \u001b[38;5;28;01mreturn\u001b[39;00m LpConstraint(\u001b[38;5;28;43mself\u001b[39;49m\u001b[43m \u001b[49m\u001b[38;5;241;43m-\u001b[39;49m\u001b[43m \u001b[49m\u001b[43mother\u001b[49m, const\u001b[38;5;241m.\u001b[39mLpConstraintLE)\n",
      "File \u001b[0;32m~/micromamba/envs/pb/lib/python3.10/site-packages/pulp/pulp.py:901\u001b[0m, in \u001b[0;36mLpAffineExpression.__sub__\u001b[0;34m(self, other)\u001b[0m\n\u001b[1;32m    900\u001b[0m \u001b[38;5;28;01mdef\u001b[39;00m\u001b[38;5;250m \u001b[39m\u001b[38;5;21m__sub__\u001b[39m(\u001b[38;5;28mself\u001b[39m, other):\n\u001b[0;32m--> 901\u001b[0m     \u001b[38;5;28;01mreturn\u001b[39;00m \u001b[38;5;28;43mself\u001b[39;49m\u001b[38;5;241;43m.\u001b[39;49m\u001b[43mcopy\u001b[49m\u001b[43m(\u001b[49m\u001b[43m)\u001b[49m\u001b[38;5;241;43m.\u001b[39;49m\u001b[43msubInPlace\u001b[49m\u001b[43m(\u001b[49m\u001b[43mother\u001b[49m\u001b[43m)\u001b[49m\n",
      "File \u001b[0;32m~/micromamba/envs/pb/lib/python3.10/site-packages/pulp/pulp.py:879\u001b[0m, in \u001b[0;36mLpAffineExpression.subInPlace\u001b[0;34m(self, other)\u001b[0m\n\u001b[1;32m    878\u001b[0m \u001b[38;5;28;01mdef\u001b[39;00m\u001b[38;5;250m \u001b[39m\u001b[38;5;21msubInPlace\u001b[39m(\u001b[38;5;28mself\u001b[39m, other):\n\u001b[0;32m--> 879\u001b[0m     \u001b[38;5;28;01mreturn\u001b[39;00m \u001b[38;5;28;43mself\u001b[39;49m\u001b[38;5;241;43m.\u001b[39;49m\u001b[43maddInPlace\u001b[49m\u001b[43m(\u001b[49m\u001b[43mother\u001b[49m\u001b[43m,\u001b[49m\u001b[43m \u001b[49m\u001b[43msign\u001b[49m\u001b[38;5;241;43m=\u001b[39;49m\u001b[38;5;241;43m-\u001b[39;49m\u001b[38;5;241;43m1\u001b[39;49m\u001b[43m)\u001b[49m\n",
      "File \u001b[0;32m~/micromamba/envs/pb/lib/python3.10/site-packages/pulp/pulp.py:860\u001b[0m, in \u001b[0;36mLpAffineExpression.addInPlace\u001b[0;34m(self, other, sign)\u001b[0m\n\u001b[1;32m    858\u001b[0m     \u001b[38;5;28mself\u001b[39m\u001b[38;5;241m.\u001b[39mconstant \u001b[38;5;241m+\u001b[39m\u001b[38;5;241m=\u001b[39m other\u001b[38;5;241m.\u001b[39mconstant \u001b[38;5;241m*\u001b[39m sign\n\u001b[1;32m    859\u001b[0m     \u001b[38;5;28;01mfor\u001b[39;00m v, x \u001b[38;5;129;01min\u001b[39;00m other\u001b[38;5;241m.\u001b[39mitems():\n\u001b[0;32m--> 860\u001b[0m         \u001b[38;5;28;43mself\u001b[39;49m\u001b[38;5;241;43m.\u001b[39;49m\u001b[43maddterm\u001b[49m\u001b[43m(\u001b[49m\u001b[43mv\u001b[49m\u001b[43m,\u001b[49m\u001b[43m \u001b[49m\u001b[43mx\u001b[49m\u001b[43m \u001b[49m\u001b[38;5;241;43m*\u001b[39;49m\u001b[43m \u001b[49m\u001b[43msign\u001b[49m\u001b[43m)\u001b[49m\n\u001b[1;32m    861\u001b[0m \u001b[38;5;28;01melif\u001b[39;00m \u001b[38;5;28misinstance\u001b[39m(other, \u001b[38;5;28mdict\u001b[39m):\n\u001b[1;32m    862\u001b[0m     \u001b[38;5;66;03m# if a dictionary, we add each value\u001b[39;00m\n\u001b[1;32m    863\u001b[0m     \u001b[38;5;28;01mfor\u001b[39;00m e \u001b[38;5;129;01min\u001b[39;00m other\u001b[38;5;241m.\u001b[39mvalues():\n",
      "File \u001b[0;32m~/micromamba/envs/pb/lib/python3.10/site-packages/pulp/pulp.py:730\u001b[0m, in \u001b[0;36mLpAffineExpression.addterm\u001b[0;34m(self, key, value)\u001b[0m\n\u001b[1;32m    728\u001b[0m     \u001b[38;5;28mself\u001b[39m[key] \u001b[38;5;241m=\u001b[39m y\n\u001b[1;32m    729\u001b[0m \u001b[38;5;28;01melse\u001b[39;00m:\n\u001b[0;32m--> 730\u001b[0m     \u001b[38;5;28;43mself\u001b[39;49m\u001b[43m[\u001b[49m\u001b[43mkey\u001b[49m\u001b[43m]\u001b[49m \u001b[38;5;241m=\u001b[39m value\n",
      "File \u001b[0;32m~/micromamba/envs/pb/lib/python3.10/site-packages/pulp/pulp.py:175\u001b[0m, in \u001b[0;36mLpElement.__hash__\u001b[0;34m(self)\u001b[0m\n\u001b[1;32m    172\u001b[0m     \u001b[38;5;28mself\u001b[39m\u001b[38;5;241m.\u001b[39mhash \u001b[38;5;241m=\u001b[39m \u001b[38;5;28mid\u001b[39m(\u001b[38;5;28mself\u001b[39m)\n\u001b[1;32m    173\u001b[0m     \u001b[38;5;28mself\u001b[39m\u001b[38;5;241m.\u001b[39mmodified \u001b[38;5;241m=\u001b[39m \u001b[38;5;28;01mTrue\u001b[39;00m\n\u001b[0;32m--> 175\u001b[0m \u001b[38;5;28;01mdef\u001b[39;00m\u001b[38;5;250m \u001b[39m\u001b[38;5;21m__hash__\u001b[39m(\u001b[38;5;28mself\u001b[39m):\n\u001b[1;32m    176\u001b[0m     \u001b[38;5;28;01mreturn\u001b[39;00m \u001b[38;5;28mself\u001b[39m\u001b[38;5;241m.\u001b[39mhash\n\u001b[1;32m    178\u001b[0m \u001b[38;5;28;01mdef\u001b[39;00m\u001b[38;5;250m \u001b[39m\u001b[38;5;21m__str__\u001b[39m(\u001b[38;5;28mself\u001b[39m):\n",
      "\u001b[0;31mKeyboardInterrupt\u001b[0m: "
     ]
    }
   ],
   "source": [
    "\n",
    "from scipy.optimize import milp, LinearConstraint, Bounds\n",
    "import numpy as np\n",
    "\n",
    "import numpy as np\n",
    "import pulp\n",
    "\n",
    "def extract_lp_matrices(model):\n",
    "    \"\"\"\n",
    "    Extracts (c, A, ub, lb) matrices from a PuLP ILP model where all variables are binary.\n",
    "    \"\"\"\n",
    "    # Ensure the problem is a maximization problem\n",
    "\n",
    "    # Get list of variables in sorted order\n",
    "    variables = list(model.variables())\n",
    "    variables.sort(key=lambda v: v.name)\n",
    "    var_hash = [v.hash for v in variables]\n",
    "    num_vars = len(variables)\n",
    "\n",
    "    # Extract objective coefficients (c)\n",
    "    c = np.array([model.objective.get(v, 0) for v in variables])\n",
    "    if model.sense == pulp.LpMaximize:\n",
    "        c = -c\n",
    "        \n",
    "    # Extract constraint matrix (A) and bounds (ub)\n",
    "    constraint_list = list(model.constraints.values())\n",
    "    num_constraints = len(constraint_list)\n",
    "\n",
    "    A = np.zeros((num_constraints, num_vars))\n",
    "    ub = np.zeros(num_constraints)\n",
    "\n",
    "    for i, constraint in enumerate(constraint_list):\n",
    "        ub[i] = -constraint.constant\n",
    "        for var, coeff in constraint.items():\n",
    "            j = var_hash.index(var.hash)  # Find index of variable\n",
    "            A[i, j] = coeff\n",
    "        # Convert equality constraints to two inequalities if needed\n",
    "        if constraint.sense == pulp.LpConstraintEQ:\n",
    "            A = np.vstack([A, -A[i, :]])\n",
    "            ub = np.hstack([ub, -ub[i]])\n",
    "    # All variables are binary, so lower and upper bounds are known\n",
    "    return c, A, ub\n",
    "\n",
    "\n",
    "for i,(a,b) in enumerate(zip(smiles_a, smiles_b)):\n",
    "    G1 = construct_graph(a)\n",
    "    G2 = construct_graph(b)\n",
    "    ilp = get_ilp_itself(G1, G2, -1)\n",
    "    # c, A, ub = extract_lp_matrices(ilp)\n",
    "\n",
    "    # res = milp(\n",
    "    #     c=c, \n",
    "    #     constraints=LinearConstraint(\n",
    "    #         A=A,\n",
    "    #         ub=ub,\n",
    "    #     ), \n",
    "    #     integrality=np.ones_like(c), \n",
    "    #     bounds=Bounds(0, 1)\n",
    "    # )\n",
    "    # ilp.solve()\n",
    "    # print(res.fun, ilp.objective.value())\n",
    "    ilp.writeLP(f'mps/{i:03}.lp')"
   ]
  },
  {
   "cell_type": "code",
   "execution_count": null,
   "metadata": {},
   "outputs": [
    {
     "data": {
      "text/plain": [
       "['CC(=O)N[C@@H](CC1=CC=CC=C1)C2=CC(=CC(=O)O2)OC',\n",
       " 'C[C@H]1CCCC(=O)CCC/C=C/C2=C(C(=CC(=C2)O)O)C(=O)O1',\n",
       " 'CC1CCCC(=O)CCCC=CC2=C(C(=CC(=C2)O)O)C(=O)O1',\n",
       " 'CC(C)(C=C)C1(C2=CC=CC=C2N(C1=O)O)CC3C(=O)N/C(=C/C4=CN=CN4)/C(=O)N3',\n",
       " 'C[C@@H]1C[C@H]2[C@H](O2)/C=C\\\\C(=O)CC(=O)O1',\n",
       " 'CC12CC3=C(C(O1)C[C@@H](O2)C(=O)O)C(=C4C(=O)C=C(C(=O)C4=C3O)OC)O',\n",
       " 'C[C@H]1CN([C@@H]2CC3=CNC4=CC=CC(=C34)[C@H]2[C@@H]1OC(=O)C)C',\n",
       " 'CC[C@H](C)[C@H]1C(=O)O[C@@H](C(=O)N([C@H](C(=O)O[C@@H](C(=O)N([C@H](C(=O)O[C@@H](C(=O)N1C)C(C)C)C(C)C)C)C(C)C)C(C)C)C)C(C)C',\n",
       " 'CCC(C)C1C(=O)OC(C(=O)N(C(C(=O)OC(C(=O)N(C(C(=O)OC(C(=O)N1C)C(C)C)C(C)C)C)C(C)C)C(C)C)C)C(C)C',\n",
       " 'CC1=C[C@@H]2[C@]([C@@H](C1=O)O)([C@]3([C@@H]([C@H]([C@H]([C@@]34CO4)O2)O)OC(=O)C)C)CO',\n",
       " 'CC1=CC2C(C(C1=O)O)(C3(C(C(C(C34CO4)O2)O)OC(=O)C)C)CO',\n",
       " 'CC1=CC(=O)C2=C(C3=C(C=C(C=C3C=C2O1)OC)O)O',\n",
       " 'CC1=C[C@@H]2[C@@]3(CC1)COC(=O)/C=C(/CCO[C@@H](/C=C/C=C\\\\C(=O)O[C@H]4[C@]3([C@]5(CO5)[C@@H](C4)O2)C)[C@H](C)O)\\\\C',\n",
       " 'CC(C)C[C@H]1C(=O)O[C@@H](C(=O)N([C@H](C(=O)O[C@@H](C(=O)N([C@H](C(=O)O[C@@H](C(=O)N([C@H](C(=O)O[C@@H](C(=O)N1C)C(C)C)CC(C)C)C)C(C)C)CC(C)C)C)C(C)C)CC(C)C)C)C(C)C',\n",
       " 'COC1=C2C3=C(C(=O)OCC3)C(=O)OC2=C4[C@@H]5CCO[C@@H]5OC4=C1',\n",
       " 'CC(C)C[C@H]1C(=O)N2CCC[C@H]2[C@]3(N1C(=O)[C@](O3)(C(C)C)NC(=O)[C@H]4CN([C@@H]5CC6=CNC7=CC=CC(=C67)C5=C4)C)O',\n",
       " 'C[C@H]1C2=NC3=CC=CC=C3C(=O)N2[C@@H](C(=O)N1)CC4=CNC5=CC=CC=C54',\n",
       " 'CC(=O)CC(C)(C)N1C=C(N=C1)/C=C\\\\2/C(=O)N3[C@H](C[C@@]4([C@H]3NC5=CC=CC=C54)C(C)(C)C=C)C(=O)N2',\n",
       " 'CC(C)[C@@H]1C(=O)N([C@H](C(=O)O[C@@H](C(=O)N([C@H](C(=O)O[C@@H](C(=O)N([C@H](C(=O)O1)CC2=CC=CC=C2)C)C(C)C)CC3=CC=CC=C3)C)C(C)C)CC4=CC=CC=C4)C',\n",
       " 'CC(C)C1C(=O)N(C(C(=O)OC(C(=O)N(C(C(=O)OC(C(=O)N(C(C(=O)O1)CC2=CC=CC=C2)C)C(C)C)CC3=CC=CC=C3)C)C(C)C)CC4=CC=CC=C4)C',\n",
       " 'CC(C)[C@H]1C(=O)O[C@@H](C(=O)N([C@H](C(=O)O[C@@H](C(=O)N([C@H](C(=O)O[C@@H](C(=O)N1C)C(C)C)C(C)C)C)C(C)C)C(C)C)C)C(C)C',\n",
       " 'CC(C)C1C(=O)OC(C(=O)N(C(C(=O)OC(C(=O)N(C(C(=O)OC(C(=O)N1C)C(C)C)C(C)C)C)C(C)C)C(C)C)C)C(C)C',\n",
       " 'CCCC[C@@H](C)[C@H]([C@H](C[C@@H](C)C[C@@H](CCCCCC[C@@H]([C@@H](C)N)O)O)OC(=O)CC(CC(=O)O)C(=O)O)OC(=O)CC(CC(=O)O)C(=O)O',\n",
       " 'CC1=CC2C3(CC1)COC(=O)C4C5(O4)CCOC(C5O)(/C=C\\\\C=C/C(=O)OC6C3(C7(CO7)C(C6)O2)C)C(=O)C',\n",
       " 'CCCCCC[C@H]1[C@@H]2CC[C@H]3[C@H](CC[C@H]([C@]3(O2)O1)O)O',\n",
       " 'CC1=C[C@@H]2[C@](CC1)([C@]3([C@@H]([C@H]([C@H]([C@]34CO4)O2)O)OC(=O)C)C)COC(=O)C',\n",
       " 'CC1=CC2C(CC1)(C3(C(C(C(C34CO4)O2)O)OC(=O)C)C)COC(=O)C',\n",
       " 'C1=CC=C(C=C1)C2=C(C(=O)NC3=CC=CC=C32)O',\n",
       " 'CC1=C[C@@H]2[C@](C[C@@H]1O)([C@]3([C@@H]([C@H]([C@H]([C@@]34CO4)O2)O)OC(=O)C)C)COC(=O)C',\n",
       " 'CC1=CC2C(CC1O)(C3(C(C(C(C34CO4)O2)O)OC(=O)C)C)COC(=O)C',\n",
       " 'C1=CC(=C(C=C1O)CO)O',\n",
       " 'CCCC[C@@H](C)[C@H]([C@H](C[C@@H](C)CCCCCC[C@H](C[C@@H]([C@H](C)N)O)O)OC(=O)C[C@@H](CC(=O)O)C(=O)O)OC(=O)C[C@@H](CC(=O)O)C(=O)O',\n",
       " 'CCCCC(C)C(C(CC(C)CCCCCCC(CC(C(C)N)O)O)OC(=O)CC(CC(=O)O)C(=O)O)OC(=O)CC(CC(=O)O)C(=O)O',\n",
       " 'C[C@H]1[C@@H]([C@@H](CC(=C)[C@@H]2CC([C@@H]2CC1=O)(C)C)O)O',\n",
       " 'C[C@H]\\\\1C/C=C/[C@H]2[C@H]3[C@](O3)([C@H]([C@@H]4[C@@]2(C(=O)/C=C/C(=O)[C@@H](/C(=C1)/C)O)C(=O)N[C@H]4CC5=CNC6=CC=CC=C65)C)C',\n",
       " 'CN1C(=O)C2=CC=CC=C2NC(=O)C13[C@H](O3)C4=CC=CC=C4',\n",
       " 'CC[C@H](C)[C@H]1C(=O)O[C@@H](C(=O)N([C@H](C(=O)O[C@@H](C(=O)N([C@H](C(=O)O[C@@H](C(=O)N1C)C(C)C)[C@@H](C)CC)C)C(C)C)[C@@H](C)CC)C)C(C)C',\n",
       " 'CCC(C)C1C(=O)OC(C(=O)N(C(C(=O)OC(C(=O)N(C(C(=O)OC(C(=O)N1C)C(C)C)C(C)CC)C)C(C)C)C(C)CC)C)C(C)C',\n",
       " 'CC(C)[C@H]1C(=O)N2CCC[C@H]2[C@]3(N1C(=O)[C@](O3)(C(C)C)NC(=O)[C@H]4CN([C@@H]5CC6=CNC7=CC=CC(=C67)C5=C4)C)O',\n",
       " 'C[C@@H]1CCC2[C@@]([C@@]13CC4=C(C=C5C(=C4O3)CN(C5=O)CCCC[C@@H](C(=O)O)N6CC7=C8C(=C(C=C7C6=O)O)C[C@@]9(O8)[C@@H](CCC1[C@@]9(C[C@H]([C@H](C1(C)C)O)O)C)C)O)(CC[C@H](C2(C)C)O)C',\n",
       " 'CCOC(=O)C(CC1=CC=CC=C1)NC(=O)C2=C(C3=C(CC(OC3=O)C)C=C2)O',\n",
       " 'CC1=CC2C3(CC1)COC(=O)C4C5(O4)CCOC(C5O)(/C=C/C=C\\\\C(=O)OC6C3(C7(CO7)C(C6)O2)C)C(C)O',\n",
       " 'CC(=C[C@@H]1N2C3=C(C=CC(=C3)OC)C4=C2[C@H](CC(OO1)(C)C)N5C(=O)[C@@H]6CCCN6C(=O)[C@@]5([C@H]4O)O)C',\n",
       " 'CC(C)C[C@@H]1C(=O)N[C@H](C(=O)N[C@@H]2CSSC[C@H](C(=O)N[C@H](C(=O)N1)C(C)C)NC2=O)C(C)C',\n",
       " 'CC(C)[C@H]1C(=O)N2CCC[C@H]2[C@]3(N1C(=O)[C@](O3)(C)NC(=O)[C@H]4CN([C@@H]5CC6=CNC7=CC=CC(=C67)C5=C4)C)O',\n",
       " 'CC[C@H](C)[C@H]1C(=C(C(=O)N1)C(=O)C)O',\n",
       " 'CC(C)[C@@]1(C(=O)N2[C@H](C(=O)N3CCC[C@H]3[C@@]2(O1)O)CC4=CC=CC=C4)NC(=O)[C@@H]5CN([C@@H]6CC7=CNC8=CC=CC(=C78)C6=C5)C',\n",
       " 'CC[C@H](C)/C=C/C1=CC2=C(C(=O)[C@@]3(C(=C(C(=O)O3)C(=O)[C@@H](C)[C@@H](C)O)C2=CO1)C)Cl',\n",
       " 'CC1=C[C@@H]2[C@@]3(CC1)COC(=O)/C=C(/CCOC(=O)/C=C/C=C/C(=O)O[C@H]4[C@]3([C@]5(CO5)[C@@H](C4)O2)C)\\\\C',\n",
       " 'CC1=CC(=CC2=C1C3=C(C(=CC(=C3)OC)O)C(=O)O2)O',\n",
       " 'C[C@@H]1CC2=C(C=C(C(=C2C(=O)O1)O)C(=O)N[C@@H](CC3=CC=CC=C3)C(=O)O)Cl',\n",
       " 'CC1CC2=C(C=C(C(=C2C(=O)O1)O)C(=O)NC(CC3=CC=CC=C3)C(=O)O)Cl',\n",
       " 'C[C@@H]1[C@H](OC=C2C1=C(C(=C(C2=O)C(=O)O)O)C)C',\n",
       " 'CC1C(OC=C2C1=C(C(=C(C2=O)C(=O)O)O)C)C',\n",
       " 'CC(C)(C=C)[C@@]12C[C@H]3C(=O)N/C(=C/C4=CN=CN4)/C(=O)N3[C@@H]1NC5=CC=CC=C25',\n",
       " 'C[C@H](CC1=C2C3=C(C(=C(C4=C3C5=C6C2=C(C(=O)C=C6OCOC5=CC4=O)C(=C1OC)O)O)OC)C[C@@H](C)O)O',\n",
       " 'CC[C@H](C)[C@H]1C(=O)O[C@@H](C(=O)N([C@H](C(=O)O[C@@H](C(=O)N([C@H](C(=O)O[C@@H](C(=O)N1C)C(C)C)[C@@H](C)CC)C)C(C)C)C(C)C)C)C(C)C',\n",
       " 'CCC(C)C1C(=O)OC(C(=O)N(C(C(=O)OC(C(=O)N(C(C(=O)OC(C(=O)N1C)C(C)C)C(C)C)C)C(C)C)C(C)CC)C)C(C)C',\n",
       " 'CS[C@H]1C(=O)N[C@@](C(=O)N1)(CC2=CC=C(C=C2)O)SC',\n",
       " 'CC1=C[C@@H]2[C@](CC1)([C@]3([C@@H](C[C@H]([C@@]34CO4)O2)OC(=O)/C=C\\\\C=C\\\\[C@@H]([C@H](C)O)O)C)CO',\n",
       " 'CC(C)(C=C)[C@@]12C=C(C(=O)N\\\\3[C@]1(NC(=O)/C3=C\\\\C4=CN=CN4)N(C5=CC=CC=C25)OC)OC',\n",
       " 'CC(C)[C@@]1(C(=O)N2[C@H](C(=O)N3CCC[C@H]3[C@@]2(O1)O)CC4=CC=CC=C4)NC(=O)[C@H]5CN([C@@H]6CC7=CNC8=CC=CC(=C78)C6=C5)C',\n",
       " 'C[C@H]1C(C2=C(O1)C3=C4C(=C2O)C(=O)C(=O)OC4=C(C=C3C)O)(C)C',\n",
       " 'CC[C@H](C)C(=O)O[C@H]1CCC=C2[C@H]1[C@H]([C@H](C=C2)C)CC[C@@H]3C[C@H](CC(=O)O3)O',\n",
       " 'CCC(C)C(=O)OC1CCC=C2C1C(C(C=C2)C)CCC3CC(CC(=O)O3)O',\n",
       " 'CC1=C[C@@H]2[C@]([C@@H](C1=O)O)([C@]3(C[C@H]([C@H]([C@@]34CO4)O2)O)C)CO',\n",
       " 'CC(C)(C=C)[C@@]12C[C@@H](C(=O)N\\\\3[C@]1(NC(=O)/C3=C\\\\C4=CN=CN4)N(C5=CC=CC=C25)OC)O',\n",
       " 'CC(=CCC1=C(C2=CC=CC=C2N1)C[C@H]3C(=O)N4CCC[C@H]4C(=O)N3)C',\n",
       " 'CC1=C[C@@H]2[C@](C(C1=O)O)([C@]3(C[C@H]([C@H]([C@@]34CO4)O2)OC(=O)C)C)COC(=O)C',\n",
       " 'COC1=C2C3=C(C(=O)CC3)C(=O)OC2=C4[C@@H]5CCO[C@@H]5OC4=C1',\n",
       " 'CC(C)(C=C)C12CC3C(=O)N/C(=C/C4=CN=CN4)/C(=O)N3C1N(C5=CC=CC=C25)O',\n",
       " 'C[C@]12CCC[C@H](O1)C3=C(O2)C=C4C(=C3O)C(=O)C5=C(C4=O)C=C(C=C5O)O',\n",
       " 'CC(C)[C@H]1C2=NC3=CC=CC=C3C(=O)N2[C@@H](C(=O)N1)C[C@@]4([C@@H]5NC(C(=O)N5C6=CC=CC=C64)(C)C)O',\n",
       " 'C1=CC=C(C=C1)C[C@@H](CO)NC(=O)[C@H](CC2=CC=CC=C2)NC(=O)C3=CC=CC=C3',\n",
       " 'COC1=C(C2=C(C=C1)C=C(C(=O)O2)NC(=O)C3=NO[C@H]4[C@@H](C=C[C@H]([C@]4(C3)O)O)O)OC',\n",
       " 'C1=C(C=C(C(=CC1=O)O)O)C(=O)O',\n",
       " 'C[C@@H]1CCO[C@H](/C=C/C=C\\\\C(=O)O[C@@H]2C[C@@H]3[C@]4([C@]2([C@]5(CCC(=C[C@H]5O3)C)COC(=O)[C@H]1O)C)CO4)[C@@H](C)O',\n",
       " 'CC1=C[C@H]2[C@@]3(CCC(=O)C([C@H]3CC[C@@]2([C@]4([C@@]1(C(=C(C4=O)C)O)C)C(=O)OC)C)(C)C)C',\n",
       " 'CC1=C[C@@H]2[C@](C[C@@H]1OC(=O)CC(C)C)([C@]3([C@@H]([C@H]([C@H]([C@@]34CO4)O2)O)O)C)COC(=O)C',\n",
       " 'CC1=CC2C(CC1OC(=O)CC(C)C)(C3(C(C(C(C34CO4)O2)O)O)C)COC(=O)C',\n",
       " 'CCCC[C@@H](C)[C@H]([C@H](C[C@@H](C)C[C@@H](CCCC[C@H](C[C@@H]([C@H](C)N)O)O)O)OC(=O)C[C@@H](CC(=O)O)C(=O)O)OC(=O)C[C@@H](CC(=O)O)C(=O)O',\n",
       " 'C[C@]1([C@@H]([C@H](C2=C([C@H]1O)C(=O)C3=C(C2=O)C(=CC(=C3)OC)O)O)O)O',\n",
       " 'CCCC[C@@H](C)[C@H]([C@H](C[C@@H](C)CCCCCCCC[C@@H]([C@H](C)N)O)OC(=O)C[C@@H](CC(=O)O)C(=O)O)OC(=O)C[C@@H](CC(=O)O)C(=O)O',\n",
       " 'C[C@H]1C(=O)N[C@H](C(=O)N(/C(=C\\\\C2=CC=CC=C2)/C(=O)NCC(=O)N1C)C)CC(C)C',\n",
       " 'CC1=C[C@@H]2[C@](C[C@@H]1OC(=O)CC(C)C)([C@]3([C@@H]([C@H]([C@H]([C@@]34CO4)O2)O)OC(=O)C)C)COC(=O)C',\n",
       " 'CC1=CC2C(CC1OC(=O)CC(C)C)(C3(C(C(C(C34CO4)O2)O)OC(=O)C)C)COC(=O)C',\n",
       " 'C[C@@]1(C(=O)N2[C@H](C(=O)N3CCC[C@H]3[C@@]2(O1)O)CC4=CC=CC=C4)NC(=O)[C@H]5CN([C@@H]6CC7=CNC8=CC=CC(=C78)C6=C5)C',\n",
       " 'CC1=CC2=C(C(=C1)O)C(=O)C3=C(C2=O)C=C(C=C3O)O',\n",
       " 'CC1=C[C@]23[C@](CC1)([C@]4(C[C@@H]([C@H]([C@]4(O2)CO)O3)O)C)C',\n",
       " 'C[C@@]1(CC2=C([C@H]([C@H]1O)O)C(=C3C(=O)C=C(C(=O)C3=C2O)OC)O)O',\n",
       " 'CC(=CCOC1=CC=C(C=C1)/C=C\\\\2/C(=O)N(C(C(=O)N2C)SC)C)C',\n",
       " 'CC1([C@@H]2C[C@@]34CCCN3C(=O)[C@]2(C[C@]15C(=O)C6=CC=CC=C6N5)NC4=O)C',\n",
       " 'CC1C(C2=C(O1)C3=C4C(=C2O)C(=CC(=O)C4=C(C(=C3O)O)OC)C)(C)C',\n",
       " 'C1=C(OC=C(C1=O)O)CO',\n",
       " 'CC1=C[C@@H]2[C@]([C@@H](C1=O)O)([C@]3([C@@H]([C@H]([C@H]([C@@]34CO4)O2)O)O)C)CO',\n",
       " 'CC1=CC2C(C(C1=O)O)(C3(C(C(C(C34CO4)O2)O)O)C)CO',\n",
       " 'C[C@H]1[C@@]2(C(=O)O[C@]3([C@@H](C4=C([C@]5(CC[C@]4([C@@]2(C3=C)C(=O)O1)C)C=CC(=O)OC5(C)C)C)OC(=O)C)C)O',\n",
       " 'C[C@@H]1CCC2[C@@]([C@@]13CC4=C(C=C5C(=C4O3)CN(C5=O)[C@@H](CCCCN6CC7=C8C(=C(C=C7C6=O)O)C[C@@]9(O8)[C@@H](CCC1[C@@]9(C[C@H]([C@H](C1(C)C)O)O)C)C)C(=O)O)O)(CC[C@H](C2(C)C)O)C',\n",
       " 'COC1=C2C3=C(C(=O)CC3)C(=O)OC2=C4[C@@H]5C=CO[C@@H]5OC4=C1',\n",
       " 'C[C@@H]1CC(=O)C=C([C@]12C(=O)C3=C(O2)C(=C(C=C3OC)OC)Cl)OC']"
      ]
     },
     "execution_count": 21,
     "metadata": {},
     "output_type": "execute_result"
    }
   ],
   "source": [
    "smiles_a.tolist()"
   ]
  },
  {
   "cell_type": "code",
   "execution_count": null,
   "metadata": {},
   "outputs": [
    {
     "name": "stdout",
     "output_type": "stream",
     "text": [
      "Welcome to the CBC MILP Solver \n",
      "Version: 2.10.3 \n",
      "Build Date: Dec 15 2019 \n",
      "\n",
      "command line - /home/tornikeo/micromamba/envs/pb/lib/python3.10/site-packages/pulp/solverdir/cbc/linux/64/cbc /tmp/8127686345bf46d09fabdea4974104d7-pulp.mps -timeMode elapsed -branch -printingOptions all -solution /tmp/8127686345bf46d09fabdea4974104d7-pulp.sol (default strategy 1)\n",
      "At line 2 NAME          MODEL\n",
      "At line 3 ROWS\n",
      "At line 437 COLUMNS\n",
      "At line 1427 RHS\n",
      "At line 1860 BOUNDS\n",
      "At line 1995 ENDATA\n",
      "Problem MODEL has 432 rows, 134 columns and 683 elements\n",
      "Coin0008I MODEL read with 0 errors\n",
      "Option for timeMode changed from cpu to elapsed\n",
      "Continuous objective value is 27 - 0.00 seconds\n",
      "Cgl0003I 0 fixed, 0 tightened bounds, 6 strengthened rows, 0 substitutions\n",
      "Cgl0003I 0 fixed, 0 tightened bounds, 6 strengthened rows, 0 substitutions\n",
      "Cgl0004I processed model has 92 rows, 81 columns (81 integer (81 of which binary)) and 327 elements\n",
      "Cutoff increment increased from 1e-05 to 0.4999\n",
      "Cbc0038I Initial state - 0 integers unsatisfied sum - 0\n",
      "Cbc0038I Solution found of 27\n",
      "Cbc0038I Before mini branch and bound, 81 integers at bound fixed and 0 continuous\n",
      "Cbc0038I Mini branch and bound did not improve solution (0.01 seconds)\n",
      "Cbc0038I After 0.01 seconds - Feasibility pump exiting with objective of 27 - took 0.00 seconds\n",
      "Cbc0012I Integer solution of 27 found by feasibility pump after 0 iterations and 0 nodes (0.01 seconds)\n",
      "Cbc0001I Search completed - best objective 27, took 0 iterations and 0 nodes (0.02 seconds)\n",
      "Cbc0035I Maximum depth 0, 0 variables fixed on reduced cost\n",
      "Cuts at root node changed objective from 27 to 27\n",
      "Probing was tried 0 times and created 0 cuts of which 0 were active after adding rounds of cuts (0.000 seconds)\n",
      "Gomory was tried 0 times and created 0 cuts of which 0 were active after adding rounds of cuts (0.000 seconds)\n",
      "Knapsack was tried 0 times and created 0 cuts of which 0 were active after adding rounds of cuts (0.000 seconds)\n",
      "Clique was tried 0 times and created 0 cuts of which 0 were active after adding rounds of cuts (0.000 seconds)\n",
      "MixedIntegerRounding2 was tried 0 times and created 0 cuts of which 0 were active after adding rounds of cuts (0.000 seconds)\n",
      "FlowCover was tried 0 times and created 0 cuts of which 0 were active after adding rounds of cuts (0.000 seconds)\n",
      "TwoMirCuts was tried 0 times and created 0 cuts of which 0 were active after adding rounds of cuts (0.000 seconds)\n",
      "ZeroHalf was tried 0 times and created 0 cuts of which 0 were active after adding rounds of cuts (0.000 seconds)\n",
      "\n",
      "Result - Optimal solution found\n",
      "\n",
      "Objective value:                27.00000000\n",
      "Enumerated nodes:               0\n",
      "Total iterations:               0\n",
      "Time (CPU seconds):             0.02\n",
      "Time (Wallclock seconds):       0.02\n",
      "\n",
      "Option for printingOptions changed from normal to all\n",
      "Total time (CPU seconds):       0.02   (Wallclock seconds):       0.02\n",
      "\n"
     ]
    },
    {
     "data": {
      "text/plain": [
       "27.0"
      ]
     },
     "execution_count": 4,
     "metadata": {},
     "output_type": "execute_result"
    }
   ],
   "source": [
    "ilp.solve()\n",
    "ilp.objective.value()"
   ]
  },
  {
   "cell_type": "code",
   "execution_count": null,
   "metadata": {},
   "outputs": [
    {
     "data": {
      "text/plain": [
       "((460, 134), (134,))"
      ]
     },
     "execution_count": 5,
     "metadata": {},
     "output_type": "execute_result"
    }
   ],
   "source": [
    "A.shape, c.shape"
   ]
  },
  {
   "cell_type": "code",
   "execution_count": null,
   "metadata": {},
   "outputs": [],
   "source": [
    "# import numpy as np\n",
    "\n",
    "# # Set random seed for reproducibility\n",
    "# np.random.seed(42)\n",
    "\n",
    "# # Problem size (small example)\n",
    "# num_vars = 5  # Number of binary decision variables\n",
    "# num_constraints = 3  # Number of constraints\n",
    "\n",
    "# # Generate random cost vector c\n",
    "# c = -np.random.randint(1, 10, size=num_vars)\n",
    "\n",
    "# # Generate random constraint matrix A\n",
    "# A = np.random.randint(0, 5, size=(num_constraints, num_vars))\n",
    "\n",
    "# # Generate random upper bounds for constraints\n",
    "# ub = np.random.randint(5, 15, size=num_constraints)\n",
    "\n",
    "# # Lower bounds (all zero for inequalities)\n",
    "# lb = np.zeros(num_constraints)\n",
    "\n",
    "# # Define constraints\n",
    "# constraints = LinearConstraint(A, lb, ub)\n",
    "\n",
    "# # Define integer constraints (all variables are binary)\n",
    "# integrality = np.ones(num_vars)\n",
    "\n",
    "# # Solve using scipy.optimize.milp\n",
    "# res = milp(c=c, constraints=constraints, integrality=integrality, bounds=(0, 1))\n",
    "\n",
    "# # Display results\n",
    "# res.x, res.fun"
   ]
  },
  {
   "cell_type": "code",
   "execution_count": null,
   "metadata": {},
   "outputs": [
    {
     "data": {
      "text/plain": [
       "array([0.5, 0.5, 1. , 0. , 0. , 2. , 1. , 1. , 1. , 0. , 0. , 2. , 1. ,\n",
       "       1. , 1. , 1. , 1. , 1. , 0. , 0. , 1.5, 0. , 0. , 1.5, 0. , 0. ,\n",
       "       1.5, 0. , 0. , 1.5, 0. , 0. , 1.5, 0. , 0. , 1.5, 0.5, 0.5, 1. ,\n",
       "       1. , 1.5, 1.5, 1. , 1.5, 1.5, 1.5, 1.5, 1.5, 2. , 1.5, 1. , 1.5,\n",
       "       2. , 1.5, 0. , 0. , 0. , 0. , 0. , 0. , 0. , 0. , 0. , 0. , 0. ,\n",
       "       0. , 0. , 0. , 0. , 0. , 0. , 0. , 0. , 0. , 0. , 0. , 0. , 0. ,\n",
       "       0. , 0. , 0. , 0. , 0. , 0. , 0. , 0. , 0. , 0. , 0. , 0. , 0. ,\n",
       "       0. , 0. , 0. , 0. , 0. , 0. , 0. , 0. , 0. , 0. , 0. , 0. , 0. ,\n",
       "       0. , 0. , 0. , 0. , 0. , 0. , 0. , 0. , 0. , 0. , 0. , 0. , 0. ,\n",
       "       0. , 0. , 0. , 0. , 0. , 0. , 0. , 0. , 0. , 0. , 0. , 0. , 0. ,\n",
       "       0. , 0. , 0. , 0. ])"
      ]
     },
     "execution_count": 19,
     "metadata": {},
     "output_type": "execute_result"
    }
   ],
   "source": [
    "c"
   ]
  },
  {
   "cell_type": "code",
   "execution_count": null,
   "metadata": {},
   "outputs": [
    {
     "ename": "KeyboardInterrupt",
     "evalue": "",
     "output_type": "error",
     "traceback": [
      "\u001b[0;31m---------------------------------------------------------------------------\u001b[0m",
      "\u001b[0;31mKeyboardInterrupt\u001b[0m                         Traceback (most recent call last)",
      "Cell \u001b[0;32mIn[7], line 24\u001b[0m\n\u001b[1;32m     21\u001b[0m     \u001b[38;5;28;01mreturn\u001b[39;00m best_x, best_obj\n\u001b[1;32m     23\u001b[0m \u001b[38;5;66;03m# Solve using our simple binary_milp function\u001b[39;00m\n\u001b[0;32m---> 24\u001b[0m binary_milp_solution \u001b[38;5;241m=\u001b[39m \u001b[43mbinary_milp\u001b[49m\u001b[43m(\u001b[49m\u001b[43mc\u001b[49m\u001b[43m,\u001b[49m\u001b[43m \u001b[49m\u001b[43mA\u001b[49m\u001b[43m,\u001b[49m\u001b[43m \u001b[49m\u001b[43mub\u001b[49m\u001b[43m)\u001b[49m\n\u001b[1;32m     25\u001b[0m binary_milp_solution\n",
      "Cell \u001b[0;32mIn[7], line 10\u001b[0m, in \u001b[0;36mbinary_milp\u001b[0;34m(c, A, ub)\u001b[0m\n\u001b[1;32m      8\u001b[0m \u001b[38;5;66;03m# Generate all possible binary vectors\u001b[39;00m\n\u001b[1;32m      9\u001b[0m \u001b[38;5;28;01mfor\u001b[39;00m x \u001b[38;5;129;01min\u001b[39;00m product([\u001b[38;5;241m0\u001b[39m, \u001b[38;5;241m1\u001b[39m], repeat\u001b[38;5;241m=\u001b[39mnum_vars):\n\u001b[0;32m---> 10\u001b[0m     x \u001b[38;5;241m=\u001b[39m \u001b[43mnp\u001b[49m\u001b[38;5;241;43m.\u001b[39;49m\u001b[43marray\u001b[49m\u001b[43m(\u001b[49m\u001b[43mx\u001b[49m\u001b[43m)\u001b[49m\n\u001b[1;32m     11\u001b[0m     \u001b[38;5;66;03m# Check feasibility: lb <= A @ x <= ub\u001b[39;00m\n\u001b[1;32m     12\u001b[0m     \u001b[38;5;28;01mif\u001b[39;00m np\u001b[38;5;241m.\u001b[39mall(A \u001b[38;5;241m@\u001b[39m x \u001b[38;5;241m<\u001b[39m\u001b[38;5;241m=\u001b[39m ub):\n",
      "\u001b[0;31mKeyboardInterrupt\u001b[0m: "
     ]
    }
   ],
   "source": [
    "from itertools import product\n",
    "\n",
    "\n",
    "\n",
    "def binary_milp(c, A, ub):\n",
    "    num_vars = len(c)\n",
    "    best_x = None\n",
    "    best_obj = float('inf')\n",
    "\n",
    "    # Generate all possible binary vectors\n",
    "    for x in product([0, 1], repeat=num_vars):\n",
    "        x = np.array(x)\n",
    "        # Check feasibility: lb <= A @ x <= ub\n",
    "        if np.all(A @ x <= ub):\n",
    "            obj_value = c @ x  # Compute objective function\n",
    "\n",
    "            # Update best solution if this one is better\n",
    "            if obj_value < best_obj:\n",
    "                best_obj = obj_value\n",
    "                best_x = x.copy()\n",
    "                print(best_obj)\n",
    "\n",
    "    return best_x, best_obj\n",
    "\n",
    "# Solve using our simple binary_milp function\n",
    "binary_milp_solution = binary_milp(c, A, ub)\n",
    "binary_milp_solution"
   ]
  },
  {
   "cell_type": "code",
   "execution_count": null,
   "metadata": {},
   "outputs": [
    {
     "data": {
      "text/plain": [
       "(array([-0., -0.,  1.,  0.,  0.,  1., -0., -0.,  1.,  0.,  0.,  1., -0.,\n",
       "         0.,  1., -0., -0.,  1.,  0.,  0.,  1.,  0.,  0.,  1.,  0.,  0.,\n",
       "         1.,  0.,  0.,  1.,  0.,  0.,  1.,  0.,  0.,  1., -0.,  0.,  1.,\n",
       "         1.,  1.,  1.,  1.,  1.,  1.,  1.,  1.,  1.,  1.,  1.,  1.,  1.,\n",
       "         1.,  1.,  0.,  0.,  0.,  0.,  0., -0.,  0.,  0.,  0.,  0.,  0.,\n",
       "         0., -0., -0., -0.,  0.,  0.,  0.,  0.,  0.,  0.,  0.,  0.,  0.,\n",
       "         0.,  0.,  0.,  0.,  0.,  0., -0.,  0.,  0.,  0.,  0.,  0.,  0.,\n",
       "         0.,  0., -0.,  0.,  0.,  0.,  0.,  0.,  0.,  0.,  0.,  0.,  0.,\n",
       "         0.,  0.,  0.,  0.,  0.,  0.,  0.,  0.,  0.,  0.,  0.,  0.,  0.,\n",
       "         0.,  0.,  0.,  0.,  0.,  0.,  0.,  0.,  0.,  0.,  0.,  0.,  0.,\n",
       "         0.,  0.,  0.,  0.]),\n",
       " -40.0)"
      ]
     },
     "execution_count": 28,
     "metadata": {},
     "output_type": "execute_result"
    }
   ],
   "source": [
    "from itertools import product\n",
    "from scipy.optimize import linprog\n",
    "\n",
    "def greedy_feasible_solution(c, A, ub, lb):\n",
    "    \"\"\"Find a quick feasible solution to establish an upper bound.\"\"\"\n",
    "    num_vars = len(c)\n",
    "    x = np.zeros(num_vars)  # Start with all zeros\n",
    "\n",
    "    # Sort variables by cost-effectiveness (lowest c_i first, since we're minimizing)\n",
    "    indices = np.argsort(c)\n",
    "\n",
    "    # Try flipping variables to 1 while maintaining feasibility\n",
    "    for i in indices:\n",
    "        x[i] = 1\n",
    "        if np.any(A @ x > ub) or np.any(A @ x < lb):\n",
    "            x[i] = 0  # Revert if infeasible\n",
    "\n",
    "    return x, c @ x  # Return feasible solution and its objective value\n",
    "\n",
    "\n",
    "def lp_relaxation(c, A, ub, lb):\n",
    "    \"\"\"Solve LP relaxation to get fractional values.\"\"\"\n",
    "    res = linprog(c, A_ub=A, b_ub=ub, bounds=(0, 1), method='highs')\n",
    "    return res.x if res.success else None, res.fun if res.success else float('inf')\n",
    "\n",
    "\n",
    "def branch_and_bound(c, A, ub, lb, x_partial, depth, best_x, best_obj):\n",
    "    \"\"\"Recursive branch-and-bound solver.\"\"\"\n",
    "    num_vars = len(c)\n",
    "\n",
    "    # Solve LP relaxation\n",
    "    relaxed_x, relaxed_obj = lp_relaxation(c, A, ub, lb)\n",
    "\n",
    "    # Prune if relaxation is worse than best known solution\n",
    "    if relaxed_obj >= best_obj:\n",
    "        return best_x, best_obj\n",
    "\n",
    "    # Check if the relaxed solution is already integer\n",
    "    if np.all(np.isclose(relaxed_x, np.round(relaxed_x))):\n",
    "        return relaxed_x, relaxed_obj\n",
    "\n",
    "    # Select the most fractional variable for branching\n",
    "    fractional_vars = np.abs(relaxed_x - 0.5)\n",
    "    branch_var = np.argmax(fractional_vars)\n",
    "\n",
    "    # Try setting the variable to 0 and 1 recursively\n",
    "    for val in [0, 1]:\n",
    "        new_x_partial = x_partial.copy()\n",
    "        new_x_partial[branch_var] = val\n",
    "\n",
    "        # Check feasibility\n",
    "        if np.all(A @ new_x_partial <= ub) and np.all(A @ new_x_partial >= lb):\n",
    "            obj_value = c @ new_x_partial\n",
    "            if obj_value < best_obj:\n",
    "                best_x, best_obj = new_x_partial.copy(), obj_value\n",
    "\n",
    "            # Recursively branch\n",
    "            best_x, best_obj = branch_and_bound(c, A, ub, lb, new_x_partial, depth + 1, best_x, best_obj)\n",
    "\n",
    "    return best_x, best_obj\n",
    "\n",
    "\n",
    "def binary_milp(c, A, ub, lb):\n",
    "    \"\"\"Main function to solve binary integer programming using branch-and-bound.\"\"\"\n",
    "    num_vars = len(c)\n",
    "\n",
    "    # Get initial feasible solution\n",
    "    best_x, best_obj = greedy_feasible_solution(c, A, ub, lb)\n",
    "\n",
    "    # Start branch-and-bound\n",
    "    x_partial = np.full(num_vars, -1)  # -1 means unassigned\n",
    "    best_x, best_obj = branch_and_bound(c, A, ub, lb, x_partial, 0, best_x, best_obj)\n",
    "\n",
    "    return best_x, best_obj\n",
    "\n",
    "# Solve using the improved binary_milp function\n",
    "binary_milp_solution = binary_milp(-c, A, ub, np.full_like(ub, -np.inf))\n",
    "binary_milp_solution"
   ]
  },
  {
   "cell_type": "code",
   "execution_count": null,
   "metadata": {},
   "outputs": [
    {
     "data": {
      "text/plain": [
       "array([2. , 2. , 2. , 2. , 1.5, 1.5, 1.5, 1.5, 1.5, 1.5, 1.5, 1.5, 1.5,\n",
       "       1.5, 1.5, 1.5, 1.5, 1.5, 1.5, 1.5, 1. , 1. , 1. , 1. , 1. , 1. ,\n",
       "       1. , 1. , 1. , 1. , 1. , 1. , 1. , 1. , 0.5, 0.5, 0.5, 0.5, 0. ,\n",
       "       0. , 0. , 0. , 0. , 0. , 0. , 0. , 0. , 0. , 0. , 0. , 0. , 0. ,\n",
       "       0. , 0. , 0. , 0. , 0. , 0. , 0. , 0. , 0. , 0. , 0. , 0. , 0. ,\n",
       "       0. , 0. , 0. , 0. , 0. , 0. , 0. , 0. , 0. , 0. , 0. , 0. , 0. ,\n",
       "       0. , 0. , 0. , 0. , 0. , 0. , 0. , 0. , 0. , 0. , 0. , 0. , 0. ,\n",
       "       0. , 0. , 0. , 0. , 0. , 0. , 0. , 0. , 0. , 0. , 0. , 0. , 0. ,\n",
       "       0. , 0. , 0. , 0. , 0. , 0. , 0. , 0. , 0. , 0. , 0. , 0. , 0. ,\n",
       "       0. , 0. , 0. , 0. , 0. , 0. , 0. , 0. , 0. , 0. , 0. , 0. , 0. ,\n",
       "       0. , 0. , 0. , 0. ])"
      ]
     },
     "execution_count": 17,
     "metadata": {},
     "output_type": "execute_result"
    }
   ],
   "source": [
    "np.sort(c)[::-1]"
   ]
  }
 ],
 "metadata": {
  "kernelspec": {
   "display_name": "pb",
   "language": "python",
   "name": "python3"
  },
  "language_info": {
   "codemirror_mode": {
    "name": "ipython",
    "version": 3
   },
   "file_extension": ".py",
   "mimetype": "text/x-python",
   "name": "python",
   "nbconvert_exporter": "python",
   "pygments_lexer": "ipython3",
   "version": "3.10.16"
  }
 },
 "nbformat": 4,
 "nbformat_minor": 2
}
