{
 "cells": [
  {
   "cell_type": "code",
   "execution_count": 1,
   "metadata": {},
   "outputs": [],
   "source": [
    "import pandas as pd\n",
    "from myopic_mces import MCES, construct_graph\n",
    "from myopic_mces.MCES_ILP import get_ilp_itself\n",
    "from itertools import product\n",
    "from tqdm.cli import tqdm\n",
    "from IPython.display import clear_output\n",
    "from functools import lru_cache\n",
    "from myopic_mces import construct_graph\n",
    "import pulp\n",
    "import networkx as nx\n",
    "\n",
    "smiles_a, smiles_b = ['CC(=O)OC1=CC=CC=C1C(=O)O'], ['CN1C=NC2=C1C(=O)N(C(=O)N2C)C']\n",
    "# smiles_a, smiles_b = ['CCc1ccccc1'], ['C=Cc1ccccc1']\n",
    "G1 = construct_graph(smiles_a[0])\n",
    "G2 = construct_graph(smiles_b[0])\n",
    "ilp = get_ilp_itself(G1, G2, -1)"
   ]
  },
  {
   "cell_type": "code",
   "execution_count": 2,
   "metadata": {},
   "outputs": [
    {
     "name": "stdout",
     "output_type": "stream",
     "text": [
      "Welcome to the CBC MILP Solver \n",
      "Version: 2.10.3 \n",
      "Build Date: Dec 15 2019 \n",
      "\n",
      "command line - /home/tornikeo/micromamba/envs/pb/lib/python3.10/site-packages/pulp/solverdir/cbc/linux/64/cbc /tmp/e30bccf7e3a146139ede9d69ac2166d6-pulp.mps -timeMode elapsed -branch -printingOptions all -solution /tmp/e30bccf7e3a146139ede9d69ac2166d6-pulp.sol (default strategy 1)\n",
      "At line 2 NAME          MODEL\n",
      "At line 3 ROWS\n",
      "At line 437 COLUMNS\n",
      "At line 1427 RHS\n",
      "At line 1860 BOUNDS\n",
      "At line 1995 ENDATA\n",
      "Problem MODEL has 432 rows, 134 columns and 683 elements\n",
      "Coin0008I MODEL read with 0 errors\n",
      "Option for timeMode changed from cpu to elapsed\n",
      "Continuous objective value is 27 - 0.00 seconds\n",
      "Cgl0003I 0 fixed, 0 tightened bounds, 6 strengthened rows, 0 substitutions\n",
      "Cgl0003I 0 fixed, 0 tightened bounds, 6 strengthened rows, 0 substitutions\n",
      "Cgl0004I processed model has 92 rows, 81 columns (81 integer (81 of which binary)) and 327 elements\n",
      "Cutoff increment increased from 1e-05 to 0.4999\n",
      "Cbc0038I Initial state - 0 integers unsatisfied sum - 0\n",
      "Cbc0038I Solution found of 27\n",
      "Cbc0038I Before mini branch and bound, 81 integers at bound fixed and 0 continuous\n",
      "Cbc0038I Mini branch and bound did not improve solution (0.01 seconds)\n",
      "Cbc0038I After 0.01 seconds - Feasibility pump exiting with objective of 27 - took 0.00 seconds\n",
      "Cbc0012I Integer solution of 27 found by feasibility pump after 0 iterations and 0 nodes (0.01 seconds)\n",
      "Cbc0001I Search completed - best objective 27, took 0 iterations and 0 nodes (0.01 seconds)\n",
      "Cbc0035I Maximum depth 0, 0 variables fixed on reduced cost\n",
      "Cuts at root node changed objective from 27 to 27\n",
      "Probing was tried 0 times and created 0 cuts of which 0 were active after adding rounds of cuts (0.000 seconds)\n",
      "Gomory was tried 0 times and created 0 cuts of which 0 were active after adding rounds of cuts (0.000 seconds)\n",
      "Knapsack was tried 0 times and created 0 cuts of which 0 were active after adding rounds of cuts (0.000 seconds)\n",
      "Clique was tried 0 times and created 0 cuts of which 0 were active after adding rounds of cuts (0.000 seconds)\n",
      "MixedIntegerRounding2 was tried 0 times and created 0 cuts of which 0 were active after adding rounds of cuts (0.000 seconds)\n",
      "FlowCover was tried 0 times and created 0 cuts of which 0 were active after adding rounds of cuts (0.000 seconds)\n",
      "TwoMirCuts was tried 0 times and created 0 cuts of which 0 were active after adding rounds of cuts (0.000 seconds)\n",
      "ZeroHalf was tried 0 times and created 0 cuts of which 0 were active after adding rounds of cuts (0.000 seconds)\n",
      "\n",
      "Result - Optimal solution found\n",
      "\n",
      "Objective value:                27.00000000\n",
      "Enumerated nodes:               0\n",
      "Total iterations:               0\n",
      "Time (CPU seconds):             0.01\n",
      "Time (Wallclock seconds):       0.01\n",
      "\n",
      "Option for printingOptions changed from normal to all\n",
      "Total time (CPU seconds):       0.01   (Wallclock seconds):       0.01\n",
      "\n"
     ]
    },
    {
     "data": {
      "text/plain": [
       "27.0"
      ]
     },
     "execution_count": 2,
     "metadata": {},
     "output_type": "execute_result"
    }
   ],
   "source": [
    "ilp.solve()\n",
    "ilp.objective.value()"
   ]
  },
  {
   "cell_type": "code",
   "execution_count": 23,
   "metadata": {},
   "outputs": [
    {
     "name": "stdout",
     "output_type": "stream",
     "text": [
      "c: [0.5 0.5 1.  0.  0.  2.  1.  1.  1.  0.  0.  2.  1.  1.  1.  1.  1.  1.\n",
      " 0.  0.  1.5 0.  0.  1.5 0.  0.  1.5 0.  0.  1.5 0.  0.  1.5 0.  0.  1.5\n",
      " 0.5 0.5 1.  1.  1.5 1.5 1.  1.5 1.5 1.5 1.5 1.5 2.  1.5 1.  1.5 2.  1.5\n",
      " 0.  0.  0.  0.  0.  0.  0.  0.  0.  0.  0.  0.  0.  0.  0.  0.  0.  0.\n",
      " 0.  0.  0.  0.  0.  0.  0.  0.  0.  0.  0.  0.  0.  0.  0.  0.  0.  0.\n",
      " 0.  0.  0.  0.  0.  0.  0.  0.  0.  0.  0.  0.  0.  0.  0.  0.  0.  0.\n",
      " 0.  0.  0.  0.  0.  0.  0.  0.  0.  0.  0.  0.  0.  0.  0.  0.  0.  0.\n",
      " 0.  0.  0.  0.  0.  0.  0.  0. ]\n",
      "A: [[ 0.  0.  0. ...  0.  0.  0.]\n",
      " [ 0.  0.  0. ...  0.  0.  0.]\n",
      " [ 0.  0.  0. ...  0.  0.  0.]\n",
      " ...\n",
      " [-0. -0. -0. ... -0. -0. -0.]\n",
      " [-0. -0. -0. ... -0. -0. -0.]\n",
      " [-0. -0. -0. ... -0. -0. -0.]]\n",
      "ub: [ 1.  1.  1.  1.  1.  1.  1.  1.  1.  1.  1.  1.  1.  1.  1.  1.  1.  1.\n",
      "  1.  1.  1.  1.  1.  1.  1.  1.  1.  1.  1.  1.  1.  1.  1.  1.  1.  1.\n",
      "  1.  1.  1.  1.  1.  1.  1.  1.  1.  1.  1.  1.  1.  1.  1.  1.  1.  1.\n",
      "  1.  0.  0.  0.  0.  0.  0.  0.  0.  0.  0.  0.  0.  0.  0.  0.  0.  0.\n",
      "  0.  0.  0.  0.  0.  0.  0.  0.  0.  0.  0.  0.  0.  0.  0.  0.  0.  0.\n",
      "  0.  0.  0.  0.  0.  0.  0.  0.  0.  0.  0.  0.  0.  0.  0.  0.  0.  0.\n",
      "  0.  0.  0.  0.  0.  0.  0.  0.  0.  0.  0.  0.  0.  0.  0.  0.  0.  0.\n",
      "  0.  0.  0.  0.  0.  0.  0.  0.  0.  0.  0.  0.  0.  0.  0.  0.  0.  0.\n",
      "  0.  0.  0.  0.  0.  0.  0.  0.  0.  0.  0.  0.  0.  0.  0.  0.  0.  0.\n",
      "  0.  0.  0.  0.  0.  0.  0.  0.  0.  0.  0.  0.  0.  0.  0.  0.  0.  0.\n",
      "  0.  0.  0.  0.  0.  0.  0.  0.  0.  0.  0.  0.  0.  0.  0.  0.  0.  0.\n",
      "  0.  0.  0.  0.  0.  0.  0.  0.  0.  0.  0.  0.  0.  0.  0.  0.  0.  0.\n",
      "  0.  0.  0.  0.  0.  0.  0.  0.  0.  0.  0.  0.  0.  0.  0.  0.  0.  0.\n",
      "  0.  0.  0.  0.  0.  0.  0.  0.  0.  0.  0.  0.  0.  0.  0.  0.  0.  0.\n",
      "  0.  0.  0.  0.  0.  0.  0.  0.  0.  0.  0.  0.  0.  0.  0.  0.  0.  0.\n",
      "  0.  0.  0.  0.  0.  0.  0.  0.  0.  0.  0.  0.  0.  0.  0.  0.  0.  0.\n",
      "  0.  0.  0.  0.  0.  0.  0.  0.  0.  0.  0.  0.  0.  0.  0.  0.  0.  0.\n",
      "  0.  0.  0.  0.  0.  0.  0.  0.  0.  0.  0.  0.  0.  0.  0.  0.  0.  0.\n",
      "  0.  0.  0.  0.  0.  0.  0.  0.  0.  0.  0.  0.  0.  0.  0.  0.  0.  0.\n",
      "  0.  0.  0.  0.  0.  0.  0.  0.  0.  0.  0.  0.  0.  0.  0.  0.  0.  0.\n",
      "  0.  0.  0.  0.  0.  0.  0.  0.  0.  0.  0.  0.  0.  0.  0.  0.  0.  0.\n",
      "  0.  0.  0.  0.  0.  0.  0.  0.  0.  0.  0.  0.  0.  0.  0.  0.  0.  0.\n",
      "  0.  0.  0.  0.  0.  0.  0.  0.  0.  0.  0.  0.  0.  0.  0.  0.  0.  0.\n",
      "  0.  0.  0.  0.  0.  0.  0.  0.  0.  0.  0.  0.  0.  0.  0.  0.  0.  0.\n",
      " -1. -1. -1. -1. -1. -1. -1. -1. -1. -1. -1. -1. -1. -1. -1. -1. -1. -1.\n",
      " -1. -1. -1. -1. -1. -1. -1. -1. -1. -1.]\n"
     ]
    },
    {
     "data": {
      "text/plain": [
       "        message: Optimization terminated successfully. (HiGHS Status 7: Optimal)\n",
       "        success: True\n",
       "         status: 0\n",
       "            fun: 27.000000000000014\n",
       "              x: [ 0.000e+00 -0.000e+00 ...  0.000e+00  0.000e+00]\n",
       " mip_node_count: 1\n",
       " mip_dual_bound: 27.000000000000014\n",
       "        mip_gap: 0.0"
      ]
     },
     "execution_count": 23,
     "metadata": {},
     "output_type": "execute_result"
    }
   ],
   "source": [
    "from scipy.optimize import milp, LinearConstraint, Bounds\n",
    "import numpy as np\n",
    "import pulp\n",
    "\n",
    "import numpy as np\n",
    "import pulp\n",
    "\n",
    "def extract_lp_matrices(model):\n",
    "    \"\"\"\n",
    "    Extracts (c, A, ub, lb) matrices from a PuLP ILP model where all variables are binary.\n",
    "    \"\"\"\n",
    "    # Ensure the problem is a maximization problem\n",
    "\n",
    "    # Get list of variables in sorted order\n",
    "    variables = list(model.variables())\n",
    "    variables.sort(key=lambda v: v.name)\n",
    "    var_hash = [v.hash for v in variables]\n",
    "    num_vars = len(variables)\n",
    "\n",
    "    # Extract objective coefficients (c)\n",
    "    c = np.array([model.objective.get(v, 0) for v in variables])\n",
    "    if model.sense == pulp.LpMaximize:\n",
    "        c = -c\n",
    "\n",
    "    # Extract constraint matrix (A) and bounds (ub)\n",
    "    constraint_list = list(model.constraints.values())\n",
    "    num_constraints = len(constraint_list)\n",
    "\n",
    "    A = np.zeros((num_constraints, num_vars))\n",
    "    ub = np.zeros(num_constraints)\n",
    "\n",
    "    for i, constraint in enumerate(constraint_list):\n",
    "        ub[i] = -constraint.constant\n",
    "        for var, coeff in constraint.items():\n",
    "            j = var_hash.index(var.hash)  # Find index of variable\n",
    "            A[i, j] = coeff\n",
    "        # Convert equality constraints to two inequalities if needed\n",
    "        if constraint.sense == pulp.LpConstraintEQ:\n",
    "            A = np.vstack([A, -A[i, :]])\n",
    "            ub = np.hstack([ub, -ub[i]])\n",
    "    # All variables are binary, so lower and upper bounds are known\n",
    "    return c, A, ub\n",
    "\n",
    "# Example usage with a PuLP model\n",
    "# model = pulp.LpProblem(\"Example\", pulp.LpMaximize)\n",
    "# x1 = pulp.LpVariable(\"x1\", cat=\"Binary\")\n",
    "# x2 = pulp.LpVariable(\"x2\", cat=\"Binary\")\n",
    "\n",
    "# model += 3*x1 + 5*x2  # Objective function\n",
    "# model += 2*x1 + 3*x2 <= 4  # Constraint 1\n",
    "# model += x1 + 4*x2 <= 3  # Constraint 2\n",
    "\n",
    "c, A, ub = extract_lp_matrices(ilp)\n",
    "print(\"c:\", c)\n",
    "print(\"A:\", A)\n",
    "print(\"ub:\", ub)\n",
    "\n",
    "# c, A, ub, lb = extract_lp_matrices(ilp)\n",
    "res = milp(\n",
    "    c=c, \n",
    "    constraints=LinearConstraint(\n",
    "        A=A,\n",
    "        ub=ub,\n",
    "    ), \n",
    "    integrality=np.ones_like(c), \n",
    "    bounds=Bounds(0, 1)\n",
    ")\n",
    "\n",
    "res"
   ]
  },
  {
   "cell_type": "code",
   "execution_count": 22,
   "metadata": {},
   "outputs": [
    {
     "name": "stdout",
     "output_type": "stream",
     "text": [
      "Welcome to the CBC MILP Solver \n",
      "Version: 2.10.3 \n",
      "Build Date: Dec 15 2019 \n",
      "\n",
      "command line - /home/tornikeo/micromamba/envs/pb/lib/python3.10/site-packages/pulp/solverdir/cbc/linux/64/cbc /tmp/710070db797f4cb1a5ee477859b9abbb-pulp.mps -timeMode elapsed -branch -printingOptions all -solution /tmp/710070db797f4cb1a5ee477859b9abbb-pulp.sol (default strategy 1)\n",
      "At line 2 NAME          MODEL\n",
      "At line 3 ROWS\n",
      "At line 437 COLUMNS\n",
      "At line 1427 RHS\n",
      "At line 1860 BOUNDS\n",
      "At line 1995 ENDATA\n",
      "Problem MODEL has 432 rows, 134 columns and 683 elements\n",
      "Coin0008I MODEL read with 0 errors\n",
      "Option for timeMode changed from cpu to elapsed\n",
      "Continuous objective value is 27 - 0.00 seconds\n",
      "Cgl0003I 0 fixed, 0 tightened bounds, 6 strengthened rows, 0 substitutions\n",
      "Cgl0003I 0 fixed, 0 tightened bounds, 6 strengthened rows, 0 substitutions\n",
      "Cgl0004I processed model has 92 rows, 81 columns (81 integer (81 of which binary)) and 327 elements\n",
      "Cutoff increment increased from 1e-05 to 0.4999\n",
      "Cbc0038I Initial state - 0 integers unsatisfied sum - 0\n",
      "Cbc0038I Solution found of 27\n",
      "Cbc0038I Before mini branch and bound, 81 integers at bound fixed and 0 continuous\n",
      "Cbc0038I Mini branch and bound did not improve solution (0.01 seconds)\n",
      "Cbc0038I After 0.01 seconds - Feasibility pump exiting with objective of 27 - took 0.00 seconds\n",
      "Cbc0012I Integer solution of 27 found by feasibility pump after 0 iterations and 0 nodes (0.01 seconds)\n",
      "Cbc0001I Search completed - best objective 27, took 0 iterations and 0 nodes (0.01 seconds)\n",
      "Cbc0035I Maximum depth 0, 0 variables fixed on reduced cost\n",
      "Cuts at root node changed objective from 27 to 27\n",
      "Probing was tried 0 times and created 0 cuts of which 0 were active after adding rounds of cuts (0.000 seconds)\n",
      "Gomory was tried 0 times and created 0 cuts of which 0 were active after adding rounds of cuts (0.000 seconds)\n",
      "Knapsack was tried 0 times and created 0 cuts of which 0 were active after adding rounds of cuts (0.000 seconds)\n",
      "Clique was tried 0 times and created 0 cuts of which 0 were active after adding rounds of cuts (0.000 seconds)\n",
      "MixedIntegerRounding2 was tried 0 times and created 0 cuts of which 0 were active after adding rounds of cuts (0.000 seconds)\n",
      "FlowCover was tried 0 times and created 0 cuts of which 0 were active after adding rounds of cuts (0.000 seconds)\n",
      "TwoMirCuts was tried 0 times and created 0 cuts of which 0 were active after adding rounds of cuts (0.000 seconds)\n",
      "ZeroHalf was tried 0 times and created 0 cuts of which 0 were active after adding rounds of cuts (0.000 seconds)\n",
      "\n",
      "Result - Optimal solution found\n",
      "\n",
      "Objective value:                27.00000000\n",
      "Enumerated nodes:               0\n",
      "Total iterations:               0\n",
      "Time (CPU seconds):             0.01\n",
      "Time (Wallclock seconds):       0.01\n",
      "\n",
      "Option for printingOptions changed from normal to all\n",
      "Total time (CPU seconds):       0.01   (Wallclock seconds):       0.01\n",
      "\n"
     ]
    },
    {
     "data": {
      "text/plain": [
       "27.0"
      ]
     },
     "execution_count": 22,
     "metadata": {},
     "output_type": "execute_result"
    }
   ],
   "source": [
    "ilp.solve()\n",
    "ilp.objective.value()"
   ]
  },
  {
   "cell_type": "code",
   "execution_count": 5,
   "metadata": {},
   "outputs": [
    {
     "data": {
      "text/plain": [
       "((460, 134), (134,))"
      ]
     },
     "execution_count": 5,
     "metadata": {},
     "output_type": "execute_result"
    }
   ],
   "source": [
    "A.shape, c.shape"
   ]
  },
  {
   "cell_type": "code",
   "execution_count": 6,
   "metadata": {},
   "outputs": [],
   "source": [
    "# import numpy as np\n",
    "\n",
    "# # Set random seed for reproducibility\n",
    "# np.random.seed(42)\n",
    "\n",
    "# # Problem size (small example)\n",
    "# num_vars = 5  # Number of binary decision variables\n",
    "# num_constraints = 3  # Number of constraints\n",
    "\n",
    "# # Generate random cost vector c\n",
    "# c = -np.random.randint(1, 10, size=num_vars)\n",
    "\n",
    "# # Generate random constraint matrix A\n",
    "# A = np.random.randint(0, 5, size=(num_constraints, num_vars))\n",
    "\n",
    "# # Generate random upper bounds for constraints\n",
    "# ub = np.random.randint(5, 15, size=num_constraints)\n",
    "\n",
    "# # Lower bounds (all zero for inequalities)\n",
    "# lb = np.zeros(num_constraints)\n",
    "\n",
    "# # Define constraints\n",
    "# constraints = LinearConstraint(A, lb, ub)\n",
    "\n",
    "# # Define integer constraints (all variables are binary)\n",
    "# integrality = np.ones(num_vars)\n",
    "\n",
    "# # Solve using scipy.optimize.milp\n",
    "# res = milp(c=c, constraints=constraints, integrality=integrality, bounds=(0, 1))\n",
    "\n",
    "# # Display results\n",
    "# res.x, res.fun"
   ]
  },
  {
   "cell_type": "code",
   "execution_count": 19,
   "metadata": {},
   "outputs": [
    {
     "data": {
      "text/plain": [
       "array([0.5, 0.5, 1. , 0. , 0. , 2. , 1. , 1. , 1. , 0. , 0. , 2. , 1. ,\n",
       "       1. , 1. , 1. , 1. , 1. , 0. , 0. , 1.5, 0. , 0. , 1.5, 0. , 0. ,\n",
       "       1.5, 0. , 0. , 1.5, 0. , 0. , 1.5, 0. , 0. , 1.5, 0.5, 0.5, 1. ,\n",
       "       1. , 1.5, 1.5, 1. , 1.5, 1.5, 1.5, 1.5, 1.5, 2. , 1.5, 1. , 1.5,\n",
       "       2. , 1.5, 0. , 0. , 0. , 0. , 0. , 0. , 0. , 0. , 0. , 0. , 0. ,\n",
       "       0. , 0. , 0. , 0. , 0. , 0. , 0. , 0. , 0. , 0. , 0. , 0. , 0. ,\n",
       "       0. , 0. , 0. , 0. , 0. , 0. , 0. , 0. , 0. , 0. , 0. , 0. , 0. ,\n",
       "       0. , 0. , 0. , 0. , 0. , 0. , 0. , 0. , 0. , 0. , 0. , 0. , 0. ,\n",
       "       0. , 0. , 0. , 0. , 0. , 0. , 0. , 0. , 0. , 0. , 0. , 0. , 0. ,\n",
       "       0. , 0. , 0. , 0. , 0. , 0. , 0. , 0. , 0. , 0. , 0. , 0. , 0. ,\n",
       "       0. , 0. , 0. , 0. ])"
      ]
     },
     "execution_count": 19,
     "metadata": {},
     "output_type": "execute_result"
    }
   ],
   "source": [
    "c"
   ]
  },
  {
   "cell_type": "code",
   "execution_count": null,
   "metadata": {},
   "outputs": [
    {
     "ename": "KeyboardInterrupt",
     "evalue": "",
     "output_type": "error",
     "traceback": [
      "\u001b[0;31m---------------------------------------------------------------------------\u001b[0m",
      "\u001b[0;31mKeyboardInterrupt\u001b[0m                         Traceback (most recent call last)",
      "Cell \u001b[0;32mIn[7], line 24\u001b[0m\n\u001b[1;32m     21\u001b[0m     \u001b[38;5;28;01mreturn\u001b[39;00m best_x, best_obj\n\u001b[1;32m     23\u001b[0m \u001b[38;5;66;03m# Solve using our simple binary_milp function\u001b[39;00m\n\u001b[0;32m---> 24\u001b[0m binary_milp_solution \u001b[38;5;241m=\u001b[39m \u001b[43mbinary_milp\u001b[49m\u001b[43m(\u001b[49m\u001b[43mc\u001b[49m\u001b[43m,\u001b[49m\u001b[43m \u001b[49m\u001b[43mA\u001b[49m\u001b[43m,\u001b[49m\u001b[43m \u001b[49m\u001b[43mub\u001b[49m\u001b[43m)\u001b[49m\n\u001b[1;32m     25\u001b[0m binary_milp_solution\n",
      "Cell \u001b[0;32mIn[7], line 10\u001b[0m, in \u001b[0;36mbinary_milp\u001b[0;34m(c, A, ub)\u001b[0m\n\u001b[1;32m      8\u001b[0m \u001b[38;5;66;03m# Generate all possible binary vectors\u001b[39;00m\n\u001b[1;32m      9\u001b[0m \u001b[38;5;28;01mfor\u001b[39;00m x \u001b[38;5;129;01min\u001b[39;00m product([\u001b[38;5;241m0\u001b[39m, \u001b[38;5;241m1\u001b[39m], repeat\u001b[38;5;241m=\u001b[39mnum_vars):\n\u001b[0;32m---> 10\u001b[0m     x \u001b[38;5;241m=\u001b[39m \u001b[43mnp\u001b[49m\u001b[38;5;241;43m.\u001b[39;49m\u001b[43marray\u001b[49m\u001b[43m(\u001b[49m\u001b[43mx\u001b[49m\u001b[43m)\u001b[49m\n\u001b[1;32m     11\u001b[0m     \u001b[38;5;66;03m# Check feasibility: lb <= A @ x <= ub\u001b[39;00m\n\u001b[1;32m     12\u001b[0m     \u001b[38;5;28;01mif\u001b[39;00m np\u001b[38;5;241m.\u001b[39mall(A \u001b[38;5;241m@\u001b[39m x \u001b[38;5;241m<\u001b[39m\u001b[38;5;241m=\u001b[39m ub):\n",
      "\u001b[0;31mKeyboardInterrupt\u001b[0m: "
     ]
    }
   ],
   "source": [
    "from itertools import product\n",
    "\n",
    "\n",
    "\n",
    "def binary_milp(c, A, ub):\n",
    "    num_vars = len(c)\n",
    "    best_x = None\n",
    "    best_obj = float('inf')\n",
    "\n",
    "    # Generate all possible binary vectors\n",
    "    for x in product([0, 1], repeat=num_vars):\n",
    "        x = np.array(x)\n",
    "        # Check feasibility: lb <= A @ x <= ub\n",
    "        if np.all(A @ x <= ub):\n",
    "            obj_value = c @ x  # Compute objective function\n",
    "\n",
    "            # Update best solution if this one is better\n",
    "            if obj_value < best_obj:\n",
    "                best_obj = obj_value\n",
    "                best_x = x.copy()\n",
    "                print(best_obj)\n",
    "\n",
    "    return best_x, best_obj\n",
    "\n",
    "# Solve using our simple binary_milp function\n",
    "binary_milp_solution = binary_milp(c, A, ub)\n",
    "binary_milp_solution"
   ]
  },
  {
   "cell_type": "code",
   "execution_count": 28,
   "metadata": {},
   "outputs": [
    {
     "data": {
      "text/plain": [
       "(array([-0., -0.,  1.,  0.,  0.,  1., -0., -0.,  1.,  0.,  0.,  1., -0.,\n",
       "         0.,  1., -0., -0.,  1.,  0.,  0.,  1.,  0.,  0.,  1.,  0.,  0.,\n",
       "         1.,  0.,  0.,  1.,  0.,  0.,  1.,  0.,  0.,  1., -0.,  0.,  1.,\n",
       "         1.,  1.,  1.,  1.,  1.,  1.,  1.,  1.,  1.,  1.,  1.,  1.,  1.,\n",
       "         1.,  1.,  0.,  0.,  0.,  0.,  0., -0.,  0.,  0.,  0.,  0.,  0.,\n",
       "         0., -0., -0., -0.,  0.,  0.,  0.,  0.,  0.,  0.,  0.,  0.,  0.,\n",
       "         0.,  0.,  0.,  0.,  0.,  0., -0.,  0.,  0.,  0.,  0.,  0.,  0.,\n",
       "         0.,  0., -0.,  0.,  0.,  0.,  0.,  0.,  0.,  0.,  0.,  0.,  0.,\n",
       "         0.,  0.,  0.,  0.,  0.,  0.,  0.,  0.,  0.,  0.,  0.,  0.,  0.,\n",
       "         0.,  0.,  0.,  0.,  0.,  0.,  0.,  0.,  0.,  0.,  0.,  0.,  0.,\n",
       "         0.,  0.,  0.,  0.]),\n",
       " -40.0)"
      ]
     },
     "execution_count": 28,
     "metadata": {},
     "output_type": "execute_result"
    }
   ],
   "source": [
    "from itertools import product\n",
    "from scipy.optimize import linprog\n",
    "\n",
    "def greedy_feasible_solution(c, A, ub, lb):\n",
    "    \"\"\"Find a quick feasible solution to establish an upper bound.\"\"\"\n",
    "    num_vars = len(c)\n",
    "    x = np.zeros(num_vars)  # Start with all zeros\n",
    "\n",
    "    # Sort variables by cost-effectiveness (lowest c_i first, since we're minimizing)\n",
    "    indices = np.argsort(c)\n",
    "\n",
    "    # Try flipping variables to 1 while maintaining feasibility\n",
    "    for i in indices:\n",
    "        x[i] = 1\n",
    "        if np.any(A @ x > ub) or np.any(A @ x < lb):\n",
    "            x[i] = 0  # Revert if infeasible\n",
    "\n",
    "    return x, c @ x  # Return feasible solution and its objective value\n",
    "\n",
    "\n",
    "def lp_relaxation(c, A, ub, lb):\n",
    "    \"\"\"Solve LP relaxation to get fractional values.\"\"\"\n",
    "    res = linprog(c, A_ub=A, b_ub=ub, bounds=(0, 1), method='highs')\n",
    "    return res.x if res.success else None, res.fun if res.success else float('inf')\n",
    "\n",
    "\n",
    "def branch_and_bound(c, A, ub, lb, x_partial, depth, best_x, best_obj):\n",
    "    \"\"\"Recursive branch-and-bound solver.\"\"\"\n",
    "    num_vars = len(c)\n",
    "\n",
    "    # Solve LP relaxation\n",
    "    relaxed_x, relaxed_obj = lp_relaxation(c, A, ub, lb)\n",
    "\n",
    "    # Prune if relaxation is worse than best known solution\n",
    "    if relaxed_obj >= best_obj:\n",
    "        return best_x, best_obj\n",
    "\n",
    "    # Check if the relaxed solution is already integer\n",
    "    if np.all(np.isclose(relaxed_x, np.round(relaxed_x))):\n",
    "        return relaxed_x, relaxed_obj\n",
    "\n",
    "    # Select the most fractional variable for branching\n",
    "    fractional_vars = np.abs(relaxed_x - 0.5)\n",
    "    branch_var = np.argmax(fractional_vars)\n",
    "\n",
    "    # Try setting the variable to 0 and 1 recursively\n",
    "    for val in [0, 1]:\n",
    "        new_x_partial = x_partial.copy()\n",
    "        new_x_partial[branch_var] = val\n",
    "\n",
    "        # Check feasibility\n",
    "        if np.all(A @ new_x_partial <= ub) and np.all(A @ new_x_partial >= lb):\n",
    "            obj_value = c @ new_x_partial\n",
    "            if obj_value < best_obj:\n",
    "                best_x, best_obj = new_x_partial.copy(), obj_value\n",
    "\n",
    "            # Recursively branch\n",
    "            best_x, best_obj = branch_and_bound(c, A, ub, lb, new_x_partial, depth + 1, best_x, best_obj)\n",
    "\n",
    "    return best_x, best_obj\n",
    "\n",
    "\n",
    "def binary_milp(c, A, ub, lb):\n",
    "    \"\"\"Main function to solve binary integer programming using branch-and-bound.\"\"\"\n",
    "    num_vars = len(c)\n",
    "\n",
    "    # Get initial feasible solution\n",
    "    best_x, best_obj = greedy_feasible_solution(c, A, ub, lb)\n",
    "\n",
    "    # Start branch-and-bound\n",
    "    x_partial = np.full(num_vars, -1)  # -1 means unassigned\n",
    "    best_x, best_obj = branch_and_bound(c, A, ub, lb, x_partial, 0, best_x, best_obj)\n",
    "\n",
    "    return best_x, best_obj\n",
    "\n",
    "# Solve using the improved binary_milp function\n",
    "binary_milp_solution = binary_milp(-c, A, ub, np.full_like(ub, -np.inf))\n",
    "binary_milp_solution"
   ]
  },
  {
   "cell_type": "code",
   "execution_count": 17,
   "metadata": {},
   "outputs": [
    {
     "data": {
      "text/plain": [
       "array([2. , 2. , 2. , 2. , 1.5, 1.5, 1.5, 1.5, 1.5, 1.5, 1.5, 1.5, 1.5,\n",
       "       1.5, 1.5, 1.5, 1.5, 1.5, 1.5, 1.5, 1. , 1. , 1. , 1. , 1. , 1. ,\n",
       "       1. , 1. , 1. , 1. , 1. , 1. , 1. , 1. , 0.5, 0.5, 0.5, 0.5, 0. ,\n",
       "       0. , 0. , 0. , 0. , 0. , 0. , 0. , 0. , 0. , 0. , 0. , 0. , 0. ,\n",
       "       0. , 0. , 0. , 0. , 0. , 0. , 0. , 0. , 0. , 0. , 0. , 0. , 0. ,\n",
       "       0. , 0. , 0. , 0. , 0. , 0. , 0. , 0. , 0. , 0. , 0. , 0. , 0. ,\n",
       "       0. , 0. , 0. , 0. , 0. , 0. , 0. , 0. , 0. , 0. , 0. , 0. , 0. ,\n",
       "       0. , 0. , 0. , 0. , 0. , 0. , 0. , 0. , 0. , 0. , 0. , 0. , 0. ,\n",
       "       0. , 0. , 0. , 0. , 0. , 0. , 0. , 0. , 0. , 0. , 0. , 0. , 0. ,\n",
       "       0. , 0. , 0. , 0. , 0. , 0. , 0. , 0. , 0. , 0. , 0. , 0. , 0. ,\n",
       "       0. , 0. , 0. , 0. ])"
      ]
     },
     "execution_count": 17,
     "metadata": {},
     "output_type": "execute_result"
    }
   ],
   "source": [
    "np.sort(c)[::-1]"
   ]
  }
 ],
 "metadata": {
  "kernelspec": {
   "display_name": "pb",
   "language": "python",
   "name": "python3"
  },
  "language_info": {
   "codemirror_mode": {
    "name": "ipython",
    "version": 3
   },
   "file_extension": ".py",
   "mimetype": "text/x-python",
   "name": "python",
   "nbconvert_exporter": "python",
   "pygments_lexer": "ipython3",
   "version": "3.10.16"
  }
 },
 "nbformat": 4,
 "nbformat_minor": 2
}
