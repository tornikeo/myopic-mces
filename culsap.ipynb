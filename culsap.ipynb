{
 "cells": [
  {
   "cell_type": "code",
   "execution_count": 2,
   "metadata": {},
   "outputs": [
    {
     "name": "stderr",
     "output_type": "stream",
     "text": [
      "/home/tornikeo/micromamba/envs/pb/lib/python3.10/site-packages/cupyx/jit/_interface.py:173: FutureWarning: cupyx.jit.rawkernel is experimental. The interface can change in the future.\n",
      "  cupy._util.experimental('cupyx.jit.rawkernel')\n"
     ]
    }
   ],
   "source": [
    "from cupyx import jit\n",
    "import cupy\n",
    "\n",
    "@jit.rawkernel()\n",
    "def elementwise_copy(x, y, size):\n",
    "    tid = jit.blockIdx.x * jit.blockDim.x + jit.threadIdx.x\n",
    "    ntid = jit.gridDim.x * jit.blockDim.x\n",
    "    for i in range(tid, size, ntid):\n",
    "        y[i] = x[i]\n",
    "\n",
    "size = cupy.uint32(2 ** 22)\n",
    "x = cupy.random.normal(size=(size,), dtype=cupy.float32)\n",
    "y = cupy.empty((size,), dtype=cupy.float32)\n",
    "\n",
    "elementwise_copy((128,), (1024,), (x, y, size))  # RawKernel style\n",
    "assert (x == y).all()\n",
    "\n",
    "elementwise_copy[128, 1024](x, y, size)  #  Numba style\n",
    "assert (x == y).all()"
   ]
  },
  {
   "cell_type": "code",
   "execution_count": 5,
   "metadata": {},
   "outputs": [
    {
     "name": "stdout",
     "output_type": "stream",
     "text": [
      "[1 0 2]\n"
     ]
    },
    {
     "data": {
      "text/plain": [
       "np.int64(5)"
      ]
     },
     "execution_count": 5,
     "metadata": {},
     "output_type": "execute_result"
    }
   ],
   "source": [
    "# What am I solving\n",
    "# A shortest augmenting path algorithm for rectangular assignment problem\n",
    "import numpy as np\n",
    "from scipy.optimize import linear_sum_assignment\n",
    "# each C[i,j] is the cost of matching vertex i of the \n",
    "# first partite set (a ‘worker’) and vertex j\n",
    "# find a set of problems to jobs of minimal cost\n",
    "\n",
    "cost = np.array([\n",
    "    [4, 1, 3],\n",
    "    [2, 0, 5], \n",
    "    [3, 2, 2]\n",
    "])\n",
    "\n",
    "row_ind, col_ind = linear_sum_assignment(cost)\n",
    "print(col_ind)\n",
    "cost[row_ind, col_ind].sum()"
   ]
  },
  {
   "cell_type": "code",
   "execution_count": 66,
   "metadata": {},
   "outputs": [
    {
     "name": "stderr",
     "output_type": "stream",
     "text": [
      "/home/tornikeo/micromamba/envs/pb/lib/python3.10/site-packages/numba/cuda/dispatcher.py:536: NumbaPerformanceWarning: \u001b[1mGrid size 1 will likely result in GPU under-utilization due to low occupancy.\u001b[0m\n",
      "  warn(NumbaPerformanceWarning(msg))\n"
     ]
    },
    {
     "name": "stdout",
     "output_type": "stream",
     "text": [
      "[[0 0]\n",
      " [0 0]\n",
      " [0 0]\n",
      " [0 0]\n",
      " [0 0]\n",
      " [0 0]\n",
      " [0 0]\n",
      " [0 0]\n",
      " [0 0]\n",
      " [0 0]\n",
      " [0 0]\n",
      " [0 0]\n",
      " [0 0]\n",
      " [0 0]\n",
      " [0 0]\n",
      " [0 0]\n",
      " [0 0]\n",
      " [0 0]\n",
      " [0 0]\n",
      " [0 0]]\n"
     ]
    }
   ],
   "source": [
    "from numba import cuda\n",
    "from numba import int32, float32, boolean\n",
    "import numpy as np\n",
    "import cupy as cp\n",
    "\n",
    "n_mem = 20\n",
    "\n",
    "@cuda.jit(device=True)\n",
    "def augmenting_path(\n",
    "    nc, cost, u, v, path, row4col,\n",
    "    shortestPathCosts, i, \n",
    "    SR, SC,\n",
    "    remaining, p_minVal\n",
    "    ):\n",
    "    minVal = 0.0\n",
    "    num_remaining = nc\n",
    "    for it in range(nc):\n",
    "        remaining[it] = nc - it - 1\n",
    "    SR[:] = False\n",
    "    SC[:] = False\n",
    "    shortestPathCosts[:] = np.inf\n",
    "\n",
    "    sink = -1\n",
    "    while sink == -1:\n",
    "        index = -1\n",
    "        lowest = -np.inf\n",
    "        SR[i] = True\n",
    "        for it in range(num_remaining):\n",
    "            j = remaining[it]\n",
    "            r = minVal + cost[i * nc + j] - u[i] - v[j]\n",
    "            if r < shortestPathCosts[j]:\n",
    "                path[j] = i\n",
    "                shortestPathCosts[j] = r\n",
    "            if shortestPathCosts[j] < lowest or \\\n",
    "                (shortestPathCosts[j] == lowest and row4col[j] == -1):\n",
    "                lowest = shortestPathCosts[j]\n",
    "                index = it\n",
    "        minVal = lowest\n",
    "        if minVal == np.inf:\n",
    "            return -1\n",
    "        j = remaining[index]\n",
    "        if row4col[j] == -1:\n",
    "            sink = j\n",
    "        else:\n",
    "            i = row4col[j]\n",
    "        SC[j] = True\n",
    "        num_remaining -= 1\n",
    "        remaining[index] = remaining[num_remaining]\n",
    "        p_minVal[0] = minVal\n",
    "        return sink\n",
    "    \n",
    "@cuda.jit\n",
    "def solve(cost_batch, meta_batch, outp_batch, n_problems):\n",
    "    tid = cuda.blockIdx.x * cuda.blockDim.x + cuda.threadIdx.x\n",
    "    if tid < n_problems:\n",
    "\n",
    "        nc = meta_batch[tid, 0]\n",
    "        nr = meta_batch[tid, 1]\n",
    "        cost = cost_batch[tid] # nr x nc\n",
    "\n",
    "        assert nc > 0\n",
    "        assert nc < nr\n",
    "        u = cuda.local.array((n_mem,), float32)\n",
    "        v = cuda.local.array((n_mem,), float32)\n",
    "        u[:] = 0\n",
    "        v[:] = 0\n",
    "        shortestPathCosts = cuda.local.array((n_mem), float32)\n",
    "        path = cuda.local.array((n_mem,), int32)\n",
    "        path[:] = -1\n",
    "        \n",
    "        col4row = cuda.local.array((n_mem,), int32)\n",
    "        row4col = cuda.local.array((n_mem,), int32)\n",
    "        col4row[:] = -1\n",
    "        row4col[:] = -1\n",
    "        SR = cuda.local.array((n_mem,), boolean)\n",
    "        SC = cuda.local.array((n_mem,), boolean)\n",
    "        remaining = cuda.local.array((n_mem,), int32)\n",
    "\n",
    "        for curRow in range(nr):\n",
    "            minVal = cuda.local.array((1,), float32)\n",
    "            sink = -1\n",
    "            sink = augmenting_path(nc, cost, u, v, path, row4col,\n",
    "                                        shortestPathCosts, curRow, SR, SC,\n",
    "                                        remaining, minVal)\n",
    "            \n",
    "            if sink < 0:\n",
    "                outp_batch[tid, 0] = -100\n",
    "                return\n",
    "\n",
    "            u[curRow] += minVal[0]\n",
    "            for i in range(nr):\n",
    "                if SR[i] and i != curRow:\n",
    "                    u[i] += minVal[0] - shortestPathCosts[col4row[i]]\n",
    "            \n",
    "            for j in range(nc):\n",
    "                if SC[j]:\n",
    "                    v[j] -= minVal[0] - shortestPathCosts[j]\n",
    "            j = int(sink)\n",
    "            while True:\n",
    "                i = path[j]\n",
    "                row4col[j] = i\n",
    "                tmp = col4row[i] # std::swap\n",
    "                col4row[i] = j\n",
    "                j = tmp\n",
    "                if i == curRow:\n",
    "                    break\n",
    "\n",
    "        for i in range(nr):\n",
    "            outp_batch[tid, i, 0] = i\n",
    "            outp_batch[tid, i, 1] = col4row[i]\n",
    "\n",
    "size = np.uint32(2 ** 22)\n",
    "cost = np.array([\n",
    "    [4, 1, 3],\n",
    "    [2, 0, 5], \n",
    "    [3, 2, 2]\n",
    "], dtype=np.int32)\n",
    "\n",
    "n_problems = 8\n",
    "cost_batch = cp.zeros((n_problems, 20), dtype=np.int32)\n",
    "meta_batch = cp.zeros((n_problems, 2), dtype=np.int32)\n",
    "meta_batch[0, 0] = 3  # as it's 3x3\n",
    "meta_batch[0, 1] = 3  # as it's 3x3\n",
    "cost_batch[0, :cost.size] = cp.asarray(cost.ravel())\n",
    "outp_batch = cp.zeros((n_problems, 20, 2), dtype=np.int32)\n",
    "\n",
    "threads_per_block = 32\n",
    "blocks_per_grid = (n_problems + threads_per_block - 1) // threads_per_block\n",
    "\n",
    "solve[blocks_per_grid, threads_per_block](cost_batch, meta_batch, outp_batch, \n",
    "                                          np.uint32(n_problems))\n",
    "print(outp_batch[0])"
   ]
  },
  {
   "cell_type": "code",
   "execution_count": 17,
   "metadata": {},
   "outputs": [
    {
     "data": {
      "text/plain": [
       "9"
      ]
     },
     "execution_count": 17,
     "metadata": {},
     "output_type": "execute_result"
    }
   ],
   "source": [
    "cost.size"
   ]
  }
 ],
 "metadata": {
  "kernelspec": {
   "display_name": "pb",
   "language": "python",
   "name": "python3"
  },
  "language_info": {
   "codemirror_mode": {
    "name": "ipython",
    "version": 3
   },
   "file_extension": ".py",
   "mimetype": "text/x-python",
   "name": "python",
   "nbconvert_exporter": "python",
   "pygments_lexer": "ipython3",
   "version": "3.10.16"
  }
 },
 "nbformat": 4,
 "nbformat_minor": 2
}
