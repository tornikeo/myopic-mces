{
 "cells": [
  {
   "cell_type": "code",
   "execution_count": 6,
   "metadata": {},
   "outputs": [],
   "source": [
    "from scipy.optimize import linprog\n",
    "import numpy as np"
   ]
  },
  {
   "cell_type": "code",
   "execution_count": 7,
   "metadata": {},
   "outputs": [],
   "source": [
    "c = np.array([-29, -45, 0, 0])"
   ]
  },
  {
   "cell_type": "code",
   "execution_count": 12,
   "metadata": {},
   "outputs": [
    {
     "data": {
      "text/plain": [
       "        message: Optimization terminated successfully. (HiGHS Status 7: Optimal)\n",
       "        success: True\n",
       "         status: 0\n",
       "            fun: -505.974358974359\n",
       "              x: [ 9.410e+00  5.179e+00 -2.564e-01  1.641e+00]\n",
       "            nit: 3\n",
       "          lower:  residual: [ 9.410e+00  5.179e+00        inf  4.641e+00]\n",
       "                 marginals: [ 0.000e+00  0.000e+00  0.000e+00  0.000e+00]\n",
       "          upper:  residual: [       inf  8.205e-01  7.564e-01        inf]\n",
       "                 marginals: [ 0.000e+00  0.000e+00  0.000e+00  0.000e+00]\n",
       "          eqlin:  residual: [ 0.000e+00  0.000e+00]\n",
       "                 marginals: [-2.887e+00 -5.415e+00]\n",
       "        ineqlin:  residual: [ 0.000e+00  0.000e+00]\n",
       "                 marginals: [-5.174e+00 -1.805e+00]\n",
       " mip_node_count: 0\n",
       " mip_dual_bound: 0.0\n",
       "        mip_gap: 0.0"
      ]
     },
     "execution_count": 12,
     "metadata": {},
     "output_type": "execute_result"
    }
   ],
   "source": [
    "A_ub = np.array([\n",
    "    [1, -1, -3, 0],\n",
    "    [-2, 3, 7, -3],\n",
    "])\n",
    "b_ub = np.array([\n",
    "    5, -10\n",
    "])\n",
    "A_eq = np.array([\n",
    "    [2, 8, 1, 0],\n",
    "    [4, 4, 0, 1],\n",
    "])\n",
    "b_eq = np.array([\n",
    "    60, 60\n",
    "])\n",
    "\n",
    "bounds = np.array([\n",
    "    [0, None],\n",
    "    [0, 6.],\n",
    "    [-np.inf, 0.5],\n",
    "    [-3.0, None],\n",
    "])\n",
    "result = linprog(\n",
    "    c, A_ub, b_ub, A_eq, b_eq, bounds\n",
    ")\n",
    "result"
   ]
  },
  {
   "cell_type": "code",
   "execution_count": 16,
   "metadata": {},
   "outputs": [
    {
     "data": {
      "text/plain": [
       "(array([ 9.41025641,  5.17948718, -0.25641026,  1.64102564]),\n",
       " -505.974358974359,\n",
       " np.float64(-505.974358974359))"
      ]
     },
     "execution_count": 16,
     "metadata": {},
     "output_type": "execute_result"
    }
   ],
   "source": [
    "np.array(result.x), result.fun, c @ result.x"
   ]
  },
  {
   "cell_type": "code",
   "execution_count": 18,
   "metadata": {},
   "outputs": [],
   "source": [
    "import numpy as np\n",
    "from scipy import optimize\n",
    "\n",
    "sizes = np.array([21, 11, 15, 9, 34, 25, 41, 52])\n",
    "values = np.array([22, 12, 16, 10, 35, 26, 42, 53])"
   ]
  },
  {
   "cell_type": "code",
   "execution_count": 19,
   "metadata": {},
   "outputs": [
    {
     "data": {
      "text/plain": [
       "        message: Optimization terminated successfully. (HiGHS Status 7: Optimal)\n",
       "        success: True\n",
       "         status: 0\n",
       "            fun: -105.0\n",
       "              x: [ 1.000e+00  1.000e+00  0.000e+00  1.000e+00  1.000e+00\n",
       "                   1.000e+00  0.000e+00  0.000e+00]\n",
       " mip_node_count: 1\n",
       " mip_dual_bound: -105.0\n",
       "        mip_gap: 0.0"
      ]
     },
     "execution_count": 19,
     "metadata": {},
     "output_type": "execute_result"
    }
   ],
   "source": [
    "bounds = optimize.Bounds(0, 1) # 0 <= x_i <= 1\n",
    "integrality = np.full_like(values, True) # x_i all integers\n",
    "capacity = 100\n",
    "constraints = optimize.LinearConstraint(A=sizes, lb=0, ub=capacity)\n",
    "optimize.milp(\n",
    "    c=-values,\n",
    "    constraints=constraints,\n",
    "    integrality=integrality,\n",
    "    bounds=bounds,\n",
    ")"
   ]
  }
 ],
 "metadata": {
  "kernelspec": {
   "display_name": "pb",
   "language": "python",
   "name": "python3"
  },
  "language_info": {
   "codemirror_mode": {
    "name": "ipython",
    "version": 3
   },
   "file_extension": ".py",
   "mimetype": "text/x-python",
   "name": "python",
   "nbconvert_exporter": "python",
   "pygments_lexer": "ipython3",
   "version": "3.10.16"
  }
 },
 "nbformat": 4,
 "nbformat_minor": 2
}
